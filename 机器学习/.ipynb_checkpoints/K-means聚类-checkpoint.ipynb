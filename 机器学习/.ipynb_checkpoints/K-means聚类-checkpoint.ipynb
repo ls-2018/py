{
 "cells": [
  {
   "cell_type": "markdown",
   "metadata": {},
   "source": [
    "![jupyter](images/截图1555332320.png) "
   ]
  },
  {
   "cell_type": "markdown",
   "metadata": {},
   "source": [
    "![jupyter](images/截图1555312170.png) "
   ]
  },
  {
   "cell_type": "markdown",
   "metadata": {},
   "source": [
    "<h1 style='color:red'> KNN是比较一个点到两个区域的距离\n",
    " 而K-mean是到两个点的距离，只不过这两点由之前的数据区域的质心</h1>"
   ]
  },
  {
   "cell_type": "markdown",
   "metadata": {},
   "source": [
    "![jupyter](images/截图1555332577.png) "
   ]
  },
  {
   "cell_type": "markdown",
   "metadata": {},
   "source": [
    "![jupyter](images/截图1555332640.png) "
   ]
  },
  {
   "cell_type": "code",
   "execution_count": 3,
   "metadata": {},
   "outputs": [
    {
     "name": "stdout",
     "output_type": "stream",
     "text": [
      "[[ 1.03992529  1.92991009]\n",
      " [-1.38609104  7.48059603]\n",
      " [ 1.12538917  4.96698028]\n",
      " [-1.05688956  7.81833888]\n",
      " [ 1.4020041   1.726729  ]]\n",
      "[1 3 0 3 1]\n"
     ]
    }
   ],
   "source": [
    "from sklearn.datasets.samples_generator import make_blobs\n",
    "# make_blobs 聚类数据生成器\n",
    "x,y_true = make_blobs(n_samples=300,# 生成300条数据\n",
    "                      centers=4,# 四类数据\n",
    "                      cluster_std=0.5,# 方差一致,越小越聚集，可以是一个列表\n",
    "                      random_state=0\n",
    ")\n",
    "print(x[:5])\n",
    "print(y_true[:5])\n",
    "\"\"\"\n",
    "make_blobs(\n",
    "    ['n_samples=100', 'n_features=2', 'centers=None', 'cluster_std=1.0', 'center_box=(-10.0, 10.0)', 'shuffle=True', 'random_state=None'],\n",
    ")\n",
    "n_features       每个样本的特征数\n",
    "random_state     随机种子数\n",
    "\"\"\"\n",
    "import numpy as np\n",
    "import pandas as pd\n",
    "import matplotlib.pyplot as plt\n",
    "from scipy import stats\n",
    "plt.scatter(x[:,0],x[:,1],s=10,alpha=0.8)\n",
    "plt.grid()"
   ]
  },
  {
   "cell_type": "code",
   "execution_count": null,
   "metadata": {},
   "outputs": [],
   "source": [
    " "
   ]
  },
  {
   "cell_type": "code",
   "execution_count": null,
   "metadata": {},
   "outputs": [],
   "source": []
  }
 ],
 "metadata": {
  "kernelspec": {
   "display_name": "Python 3",
   "language": "python",
   "name": "python3"
  },
  "language_info": {
   "codemirror_mode": {
    "name": "ipython",
    "version": 3
   },
   "file_extension": ".py",
   "mimetype": "text/x-python",
   "name": "python",
   "nbconvert_exporter": "python",
   "pygments_lexer": "ipython3",
   "version": "3.6.3"
  }
 },
 "nbformat": 4,
 "nbformat_minor": 2
}
