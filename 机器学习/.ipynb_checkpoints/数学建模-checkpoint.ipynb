{
 "cells": [
  {
   "cell_type": "code",
   "execution_count": null,
   "metadata": {},
   "outputs": [],
   "source": [
    "# 数学建模\n",
    "    - 监督学习\n",
    "        \n",
    "    - 非监督学习\n",
    "        - 聚类\n",
    "            - PCA \n",
    "            - K-mean\n",
    "    - 随机算法\n",
    "        - 蒙特卡罗\n",
    "\n",
    "# 监督学习\n",
    "    通过已有的训练样本去训练得到一个最优模型，再利用这个模型将所有的输入映射为相应的输出。\n",
    "    根据输出可分为回归问题、分类问题\n",
    "        回归：通常输出一个连续的数值               （几天）\n",
    "        分类：通常输出是几个特定的数值               （病的种类）\n",
    "        \n",
    "        \n",
    "        \n",
    "        是量化的值还是非量化的值"
   ]
  },
  {
   "cell_type": "markdown",
   "metadata": {},
   "source": [
    "# # 线性回归\n",
    "![jupyter](images/截图1555311523.png) "
   ]
  },
  {
   "cell_type": "markdown",
   "metadata": {},
   "source": [
    "![jupyter](images/截图1555311747.png) "
   ]
  },
  {
   "cell_type": "markdown",
   "metadata": {},
   "source": [
    "![jupyter](images/截图1555311911.png) "
   ]
  },
  {
   "cell_type": "markdown",
   "metadata": {},
   "source": [
    "![jupyter](images/截图1555312170.png) "
   ]
  },
  {
   "cell_type": "markdown",
   "metadata": {},
   "source": [
    "![jupyter](images/截图1555312196.png) "
   ]
  },
  {
   "cell_type": "code",
   "execution_count": null,
   "metadata": {},
   "outputs": [],
   "source": []
  }
 ],
 "metadata": {
  "kernelspec": {
   "display_name": "Python 3",
   "language": "python",
   "name": "python3"
  },
  "language_info": {
   "codemirror_mode": {
    "name": "ipython",
    "version": 3
   },
   "file_extension": ".py",
   "mimetype": "text/x-python",
   "name": "python",
   "nbconvert_exporter": "python",
   "pygments_lexer": "ipython3",
   "version": "3.6.3"
  }
 },
 "nbformat": 4,
 "nbformat_minor": 2
}
