{
 "cells": [
  {
   "cell_type": "code",
   "execution_count": 1,
   "metadata": {},
   "outputs": [],
   "source": [
    "# 线性回归、非线性回归\n",
    "\n",
    "# 两种或两种以上变量间相互依赖的定量关系的一种\n",
    "# y = a + bx + cx*x + ...\n",
    "因变量 ：y\n",
    "自变量：x\n",
    "回归系数：a"
   ]
  },
  {
   "cell_type": "markdown",
   "metadata": {},
   "source": [
    "![jupyter](images/截图1555312873.png) "
   ]
  },
  {
   "cell_type": "markdown",
   "metadata": {},
   "source": [
    "![jupyter](images/截图1555312955.png) "
   ]
  },
  {
   "cell_type": "markdown",
   "metadata": {},
   "source": [
    "![jupyter](images/截图1555313011.png) "
   ]
  },
  {
   "cell_type": "markdown",
   "metadata": {},
   "source": [
    "![jupyter](images/截图1555313033.png) "
   ]
  },
  {
   "cell_type": "code",
   "execution_count": 7,
   "metadata": {},
   "outputs": [
    {
     "data": {
      "text/plain": [
       "0.994645215969501"
      ]
     },
     "execution_count": 7,
     "metadata": {},
     "output_type": "execute_result"
    }
   ],
   "source": [
    "# 模型评估\n",
    "from sklearn import metrics\n",
    "from sklearn.linear_model import  LinearRegression\n",
    "import numpy as np\n",
    "import pandas as pd\n",
    "import matplotlib.pyplot as plt\n",
    "from scipy import stats\n",
    "plt.absolute_import \n",
    "\n",
    "rng = np.random.RandomState(1)\n",
    "xtrain = 10 * rng.rand(30)\n",
    "ytrain = 8 + 4*xtrain + rng.rand(30)*3\n",
    "\n",
    "\n",
    "# 创建数据\n",
    "model = LinearRegression()\n",
    "model.fit(xtrain[:,np.newaxis],ytrain)\n",
    "# 多元回归拟合\n",
    "\n",
    "ytest = model.predict(xtrain[:,np.newaxis])\n",
    "\n",
    "mse = metrics.mean_squared_error(ytrain,ytest)\n",
    "rmse = np.sqrt(mse)\n",
    "ssr = ((ytest - ytrain.mean())**2).sum()\n",
    "sst = ((ytrain - ytrain.mean())**2).sum()\n",
    "r2 = ssr/sst\n",
    "r2\n",
    "\n",
    "\n",
    "r22 = model.score(xtrain[:,np.newaxis],ytrain)"
   ]
  }
 ],
 "metadata": {
  "kernelspec": {
   "display_name": "Python 3",
   "language": "python",
   "name": "python3"
  },
  "language_info": {
   "codemirror_mode": {
    "name": "ipython",
    "version": 3
   },
   "file_extension": ".py",
   "mimetype": "text/x-python",
   "name": "python",
   "nbconvert_exporter": "python",
   "pygments_lexer": "ipython3",
   "version": "3.6.3"
  }
 },
 "nbformat": 4,
 "nbformat_minor": 2
}
