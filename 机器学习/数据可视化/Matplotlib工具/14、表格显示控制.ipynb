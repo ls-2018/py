{
 "cells": [
  {
   "cell_type": "code",
   "execution_count": null,
   "metadata": {},
   "outputs": [],
   "source": [
    "'''\n",
    "表格显示控制\n",
    "\n",
    "df.style.format()\n",
    " \n",
    "'''"
   ]
  },
  {
   "cell_type": "code",
   "execution_count": 1,
   "metadata": {},
   "outputs": [],
   "source": [
    "import numpy as np\n",
    "import pandas as pd\n",
    "import matplotlib.pyplot as plt\n",
    "%matplotlib inline"
   ]
  },
  {
   "cell_type": "code",
   "execution_count": 2,
   "metadata": {},
   "outputs": [],
   "source": [
    "df = pd.DataFrame(np.random.randn(10,4),columns=['a','b','c','d'])\n",
    "sty = df.style"
   ]
  },
  {
   "cell_type": "code",
   "execution_count": 3,
   "metadata": {},
   "outputs": [
    {
     "name": "stdout",
     "output_type": "stream",
     "text": [
      "          a         b         c         d\n",
      "0 -0.240393  0.238639 -0.207536  0.635190\n",
      "1  1.077959 -1.526583 -0.216252  1.218049\n",
      "2 -1.489623 -0.959523  0.868225  0.279078\n",
      "3 -0.909010 -1.713432 -0.758621  0.080633\n",
      "4 -0.466262 -0.014200  1.180753 -1.859700\n"
     ]
    },
    {
     "data": {
      "text/html": [
       "<style  type=\"text/css\" >\n",
       "</style><table id=\"T_561f2038_6048_11e9_81a7_305a3abddb68\" ><thead>    <tr>        <th class=\"blank level0\" ></th>        <th class=\"col_heading level0 col0\" >a</th>        <th class=\"col_heading level0 col1\" >b</th>        <th class=\"col_heading level0 col2\" >c</th>        <th class=\"col_heading level0 col3\" >d</th>    </tr></thead><tbody>\n",
       "                <tr>\n",
       "                        <th id=\"T_561f2038_6048_11e9_81a7_305a3abddb68level0_row0\" class=\"row_heading level0 row0\" >0</th>\n",
       "                        <td id=\"T_561f2038_6048_11e9_81a7_305a3abddb68row0_col0\" class=\"data row0 col0\" >-24.04%</td>\n",
       "                        <td id=\"T_561f2038_6048_11e9_81a7_305a3abddb68row0_col1\" class=\"data row0 col1\" >23.86%</td>\n",
       "                        <td id=\"T_561f2038_6048_11e9_81a7_305a3abddb68row0_col2\" class=\"data row0 col2\" >-20.75%</td>\n",
       "                        <td id=\"T_561f2038_6048_11e9_81a7_305a3abddb68row0_col3\" class=\"data row0 col3\" >63.52%</td>\n",
       "            </tr>\n",
       "            <tr>\n",
       "                        <th id=\"T_561f2038_6048_11e9_81a7_305a3abddb68level0_row1\" class=\"row_heading level0 row1\" >1</th>\n",
       "                        <td id=\"T_561f2038_6048_11e9_81a7_305a3abddb68row1_col0\" class=\"data row1 col0\" >107.80%</td>\n",
       "                        <td id=\"T_561f2038_6048_11e9_81a7_305a3abddb68row1_col1\" class=\"data row1 col1\" >-152.66%</td>\n",
       "                        <td id=\"T_561f2038_6048_11e9_81a7_305a3abddb68row1_col2\" class=\"data row1 col2\" >-21.63%</td>\n",
       "                        <td id=\"T_561f2038_6048_11e9_81a7_305a3abddb68row1_col3\" class=\"data row1 col3\" >121.80%</td>\n",
       "            </tr>\n",
       "            <tr>\n",
       "                        <th id=\"T_561f2038_6048_11e9_81a7_305a3abddb68level0_row2\" class=\"row_heading level0 row2\" >2</th>\n",
       "                        <td id=\"T_561f2038_6048_11e9_81a7_305a3abddb68row2_col0\" class=\"data row2 col0\" >-148.96%</td>\n",
       "                        <td id=\"T_561f2038_6048_11e9_81a7_305a3abddb68row2_col1\" class=\"data row2 col1\" >-95.95%</td>\n",
       "                        <td id=\"T_561f2038_6048_11e9_81a7_305a3abddb68row2_col2\" class=\"data row2 col2\" >86.82%</td>\n",
       "                        <td id=\"T_561f2038_6048_11e9_81a7_305a3abddb68row2_col3\" class=\"data row2 col3\" >27.91%</td>\n",
       "            </tr>\n",
       "            <tr>\n",
       "                        <th id=\"T_561f2038_6048_11e9_81a7_305a3abddb68level0_row3\" class=\"row_heading level0 row3\" >3</th>\n",
       "                        <td id=\"T_561f2038_6048_11e9_81a7_305a3abddb68row3_col0\" class=\"data row3 col0\" >-90.90%</td>\n",
       "                        <td id=\"T_561f2038_6048_11e9_81a7_305a3abddb68row3_col1\" class=\"data row3 col1\" >-171.34%</td>\n",
       "                        <td id=\"T_561f2038_6048_11e9_81a7_305a3abddb68row3_col2\" class=\"data row3 col2\" >-75.86%</td>\n",
       "                        <td id=\"T_561f2038_6048_11e9_81a7_305a3abddb68row3_col3\" class=\"data row3 col3\" >8.06%</td>\n",
       "            </tr>\n",
       "            <tr>\n",
       "                        <th id=\"T_561f2038_6048_11e9_81a7_305a3abddb68level0_row4\" class=\"row_heading level0 row4\" >4</th>\n",
       "                        <td id=\"T_561f2038_6048_11e9_81a7_305a3abddb68row4_col0\" class=\"data row4 col0\" >-46.63%</td>\n",
       "                        <td id=\"T_561f2038_6048_11e9_81a7_305a3abddb68row4_col1\" class=\"data row4 col1\" >-1.42%</td>\n",
       "                        <td id=\"T_561f2038_6048_11e9_81a7_305a3abddb68row4_col2\" class=\"data row4 col2\" >118.08%</td>\n",
       "                        <td id=\"T_561f2038_6048_11e9_81a7_305a3abddb68row4_col3\" class=\"data row4 col3\" >-185.97%</td>\n",
       "            </tr>\n",
       "    </tbody></table>"
      ],
      "text/plain": [
       "<pandas.io.formats.style.Styler at 0x23d3a4072b0>"
      ]
     },
     "execution_count": 3,
     "metadata": {},
     "output_type": "execute_result"
    }
   ],
   "source": [
    "# 按照百分数显示\n",
    "\n",
    "df = pd.DataFrame(np.random.randn(10,4),columns=['a','b','c','d'])\n",
    "print(df.head())\n",
    "df.head().style.format(\"{:.2%}\")"
   ]
  },
  {
   "cell_type": "code",
   "execution_count": 4,
   "metadata": {},
   "outputs": [
    {
     "data": {
      "text/html": [
       "<style  type=\"text/css\" >\n",
       "</style><table id=\"T_56233ecc_6048_11e9_9a4b_305a3abddb68\" ><thead>    <tr>        <th class=\"blank level0\" ></th>        <th class=\"col_heading level0 col0\" >a</th>        <th class=\"col_heading level0 col1\" >b</th>        <th class=\"col_heading level0 col2\" >c</th>        <th class=\"col_heading level0 col3\" >d</th>    </tr></thead><tbody>\n",
       "                <tr>\n",
       "                        <th id=\"T_56233ecc_6048_11e9_9a4b_305a3abddb68level0_row0\" class=\"row_heading level0 row0\" >0</th>\n",
       "                        <td id=\"T_56233ecc_6048_11e9_9a4b_305a3abddb68row0_col0\" class=\"data row0 col0\" >-0.2404</td>\n",
       "                        <td id=\"T_56233ecc_6048_11e9_9a4b_305a3abddb68row0_col1\" class=\"data row0 col1\" >0.2386</td>\n",
       "                        <td id=\"T_56233ecc_6048_11e9_9a4b_305a3abddb68row0_col2\" class=\"data row0 col2\" >-0.2075</td>\n",
       "                        <td id=\"T_56233ecc_6048_11e9_9a4b_305a3abddb68row0_col3\" class=\"data row0 col3\" >0.6352</td>\n",
       "            </tr>\n",
       "            <tr>\n",
       "                        <th id=\"T_56233ecc_6048_11e9_9a4b_305a3abddb68level0_row1\" class=\"row_heading level0 row1\" >1</th>\n",
       "                        <td id=\"T_56233ecc_6048_11e9_9a4b_305a3abddb68row1_col0\" class=\"data row1 col0\" >1.0780</td>\n",
       "                        <td id=\"T_56233ecc_6048_11e9_9a4b_305a3abddb68row1_col1\" class=\"data row1 col1\" >-1.5266</td>\n",
       "                        <td id=\"T_56233ecc_6048_11e9_9a4b_305a3abddb68row1_col2\" class=\"data row1 col2\" >-0.2163</td>\n",
       "                        <td id=\"T_56233ecc_6048_11e9_9a4b_305a3abddb68row1_col3\" class=\"data row1 col3\" >1.2180</td>\n",
       "            </tr>\n",
       "            <tr>\n",
       "                        <th id=\"T_56233ecc_6048_11e9_9a4b_305a3abddb68level0_row2\" class=\"row_heading level0 row2\" >2</th>\n",
       "                        <td id=\"T_56233ecc_6048_11e9_9a4b_305a3abddb68row2_col0\" class=\"data row2 col0\" >-1.4896</td>\n",
       "                        <td id=\"T_56233ecc_6048_11e9_9a4b_305a3abddb68row2_col1\" class=\"data row2 col1\" >-0.9595</td>\n",
       "                        <td id=\"T_56233ecc_6048_11e9_9a4b_305a3abddb68row2_col2\" class=\"data row2 col2\" >0.8682</td>\n",
       "                        <td id=\"T_56233ecc_6048_11e9_9a4b_305a3abddb68row2_col3\" class=\"data row2 col3\" >0.2791</td>\n",
       "            </tr>\n",
       "            <tr>\n",
       "                        <th id=\"T_56233ecc_6048_11e9_9a4b_305a3abddb68level0_row3\" class=\"row_heading level0 row3\" >3</th>\n",
       "                        <td id=\"T_56233ecc_6048_11e9_9a4b_305a3abddb68row3_col0\" class=\"data row3 col0\" >-0.9090</td>\n",
       "                        <td id=\"T_56233ecc_6048_11e9_9a4b_305a3abddb68row3_col1\" class=\"data row3 col1\" >-1.7134</td>\n",
       "                        <td id=\"T_56233ecc_6048_11e9_9a4b_305a3abddb68row3_col2\" class=\"data row3 col2\" >-0.7586</td>\n",
       "                        <td id=\"T_56233ecc_6048_11e9_9a4b_305a3abddb68row3_col3\" class=\"data row3 col3\" >0.0806</td>\n",
       "            </tr>\n",
       "            <tr>\n",
       "                        <th id=\"T_56233ecc_6048_11e9_9a4b_305a3abddb68level0_row4\" class=\"row_heading level0 row4\" >4</th>\n",
       "                        <td id=\"T_56233ecc_6048_11e9_9a4b_305a3abddb68row4_col0\" class=\"data row4 col0\" >-0.4663</td>\n",
       "                        <td id=\"T_56233ecc_6048_11e9_9a4b_305a3abddb68row4_col1\" class=\"data row4 col1\" >-0.0142</td>\n",
       "                        <td id=\"T_56233ecc_6048_11e9_9a4b_305a3abddb68row4_col2\" class=\"data row4 col2\" >1.1808</td>\n",
       "                        <td id=\"T_56233ecc_6048_11e9_9a4b_305a3abddb68row4_col3\" class=\"data row4 col3\" >-1.8597</td>\n",
       "            </tr>\n",
       "    </tbody></table>"
      ],
      "text/plain": [
       "<pandas.io.formats.style.Styler at 0x23d327a4be0>"
      ]
     },
     "execution_count": 4,
     "metadata": {},
     "output_type": "execute_result"
    }
   ],
   "source": [
    "# 显示小数点数\n",
    "\n",
    "df.head().style.format(\"{:.4f}\")"
   ]
  },
  {
   "cell_type": "code",
   "execution_count": 5,
   "metadata": {},
   "outputs": [
    {
     "data": {
      "text/html": [
       "<style  type=\"text/css\" >\n",
       "</style><table id=\"T_568b724c_6048_11e9_8dca_305a3abddb68\" ><thead>    <tr>        <th class=\"blank level0\" ></th>        <th class=\"col_heading level0 col0\" >a</th>        <th class=\"col_heading level0 col1\" >b</th>        <th class=\"col_heading level0 col2\" >c</th>        <th class=\"col_heading level0 col3\" >d</th>    </tr></thead><tbody>\n",
       "                <tr>\n",
       "                        <th id=\"T_568b724c_6048_11e9_8dca_305a3abddb68level0_row0\" class=\"row_heading level0 row0\" >0</th>\n",
       "                        <td id=\"T_568b724c_6048_11e9_8dca_305a3abddb68row0_col0\" class=\"data row0 col0\" >-0.24</td>\n",
       "                        <td id=\"T_568b724c_6048_11e9_8dca_305a3abddb68row0_col1\" class=\"data row0 col1\" >+0.24</td>\n",
       "                        <td id=\"T_568b724c_6048_11e9_8dca_305a3abddb68row0_col2\" class=\"data row0 col2\" >-0.21</td>\n",
       "                        <td id=\"T_568b724c_6048_11e9_8dca_305a3abddb68row0_col3\" class=\"data row0 col3\" >+0.64</td>\n",
       "            </tr>\n",
       "            <tr>\n",
       "                        <th id=\"T_568b724c_6048_11e9_8dca_305a3abddb68level0_row1\" class=\"row_heading level0 row1\" >1</th>\n",
       "                        <td id=\"T_568b724c_6048_11e9_8dca_305a3abddb68row1_col0\" class=\"data row1 col0\" >+1.08</td>\n",
       "                        <td id=\"T_568b724c_6048_11e9_8dca_305a3abddb68row1_col1\" class=\"data row1 col1\" >-1.53</td>\n",
       "                        <td id=\"T_568b724c_6048_11e9_8dca_305a3abddb68row1_col2\" class=\"data row1 col2\" >-0.22</td>\n",
       "                        <td id=\"T_568b724c_6048_11e9_8dca_305a3abddb68row1_col3\" class=\"data row1 col3\" >+1.22</td>\n",
       "            </tr>\n",
       "            <tr>\n",
       "                        <th id=\"T_568b724c_6048_11e9_8dca_305a3abddb68level0_row2\" class=\"row_heading level0 row2\" >2</th>\n",
       "                        <td id=\"T_568b724c_6048_11e9_8dca_305a3abddb68row2_col0\" class=\"data row2 col0\" >-1.49</td>\n",
       "                        <td id=\"T_568b724c_6048_11e9_8dca_305a3abddb68row2_col1\" class=\"data row2 col1\" >-0.96</td>\n",
       "                        <td id=\"T_568b724c_6048_11e9_8dca_305a3abddb68row2_col2\" class=\"data row2 col2\" >+0.87</td>\n",
       "                        <td id=\"T_568b724c_6048_11e9_8dca_305a3abddb68row2_col3\" class=\"data row2 col3\" >+0.28</td>\n",
       "            </tr>\n",
       "            <tr>\n",
       "                        <th id=\"T_568b724c_6048_11e9_8dca_305a3abddb68level0_row3\" class=\"row_heading level0 row3\" >3</th>\n",
       "                        <td id=\"T_568b724c_6048_11e9_8dca_305a3abddb68row3_col0\" class=\"data row3 col0\" >-0.91</td>\n",
       "                        <td id=\"T_568b724c_6048_11e9_8dca_305a3abddb68row3_col1\" class=\"data row3 col1\" >-1.71</td>\n",
       "                        <td id=\"T_568b724c_6048_11e9_8dca_305a3abddb68row3_col2\" class=\"data row3 col2\" >-0.76</td>\n",
       "                        <td id=\"T_568b724c_6048_11e9_8dca_305a3abddb68row3_col3\" class=\"data row3 col3\" >+0.08</td>\n",
       "            </tr>\n",
       "            <tr>\n",
       "                        <th id=\"T_568b724c_6048_11e9_8dca_305a3abddb68level0_row4\" class=\"row_heading level0 row4\" >4</th>\n",
       "                        <td id=\"T_568b724c_6048_11e9_8dca_305a3abddb68row4_col0\" class=\"data row4 col0\" >-0.47</td>\n",
       "                        <td id=\"T_568b724c_6048_11e9_8dca_305a3abddb68row4_col1\" class=\"data row4 col1\" >-0.01</td>\n",
       "                        <td id=\"T_568b724c_6048_11e9_8dca_305a3abddb68row4_col2\" class=\"data row4 col2\" >+1.18</td>\n",
       "                        <td id=\"T_568b724c_6048_11e9_8dca_305a3abddb68row4_col3\" class=\"data row4 col3\" >-1.86</td>\n",
       "            </tr>\n",
       "    </tbody></table>"
      ],
      "text/plain": [
       "<pandas.io.formats.style.Styler at 0x23d3b781f28>"
      ]
     },
     "execution_count": 5,
     "metadata": {},
     "output_type": "execute_result"
    }
   ],
   "source": [
    "# 显示正负数\n",
    "\n",
    "df.head().style.format(\"{:+.2f}\")"
   ]
  },
  {
   "cell_type": "code",
   "execution_count": 6,
   "metadata": {},
   "outputs": [
    {
     "data": {
      "text/html": [
       "<style  type=\"text/css\" >\n",
       "</style><table id=\"T_572c3fc2_6048_11e9_954b_305a3abddb68\" ><thead>    <tr>        <th class=\"blank level0\" ></th>        <th class=\"col_heading level0 col0\" >a</th>        <th class=\"col_heading level0 col1\" >b</th>        <th class=\"col_heading level0 col2\" >c</th>        <th class=\"col_heading level0 col3\" >d</th>    </tr></thead><tbody>\n",
       "                <tr>\n",
       "                        <th id=\"T_572c3fc2_6048_11e9_954b_305a3abddb68level0_row0\" class=\"row_heading level0 row0\" >0</th>\n",
       "                        <td id=\"T_572c3fc2_6048_11e9_954b_305a3abddb68row0_col0\" class=\"data row0 col0\" >-0.240393</td>\n",
       "                        <td id=\"T_572c3fc2_6048_11e9_954b_305a3abddb68row0_col1\" class=\"data row0 col1\" >23.86%</td>\n",
       "                        <td id=\"T_572c3fc2_6048_11e9_954b_305a3abddb68row0_col2\" class=\"data row0 col2\" >-0.208</td>\n",
       "                        <td id=\"T_572c3fc2_6048_11e9_954b_305a3abddb68row0_col3\" class=\"data row0 col3\" >0.635</td>\n",
       "            </tr>\n",
       "            <tr>\n",
       "                        <th id=\"T_572c3fc2_6048_11e9_954b_305a3abddb68level0_row1\" class=\"row_heading level0 row1\" >1</th>\n",
       "                        <td id=\"T_572c3fc2_6048_11e9_954b_305a3abddb68row1_col0\" class=\"data row1 col0\" >1.07796</td>\n",
       "                        <td id=\"T_572c3fc2_6048_11e9_954b_305a3abddb68row1_col1\" class=\"data row1 col1\" >-152.66%</td>\n",
       "                        <td id=\"T_572c3fc2_6048_11e9_954b_305a3abddb68row1_col2\" class=\"data row1 col2\" >-0.216</td>\n",
       "                        <td id=\"T_572c3fc2_6048_11e9_954b_305a3abddb68row1_col3\" class=\"data row1 col3\" >1.218</td>\n",
       "            </tr>\n",
       "            <tr>\n",
       "                        <th id=\"T_572c3fc2_6048_11e9_954b_305a3abddb68level0_row2\" class=\"row_heading level0 row2\" >2</th>\n",
       "                        <td id=\"T_572c3fc2_6048_11e9_954b_305a3abddb68row2_col0\" class=\"data row2 col0\" >-1.48962</td>\n",
       "                        <td id=\"T_572c3fc2_6048_11e9_954b_305a3abddb68row2_col1\" class=\"data row2 col1\" >-95.95%</td>\n",
       "                        <td id=\"T_572c3fc2_6048_11e9_954b_305a3abddb68row2_col2\" class=\"data row2 col2\" >+0.868</td>\n",
       "                        <td id=\"T_572c3fc2_6048_11e9_954b_305a3abddb68row2_col3\" class=\"data row2 col3\" >0.279</td>\n",
       "            </tr>\n",
       "            <tr>\n",
       "                        <th id=\"T_572c3fc2_6048_11e9_954b_305a3abddb68level0_row3\" class=\"row_heading level0 row3\" >3</th>\n",
       "                        <td id=\"T_572c3fc2_6048_11e9_954b_305a3abddb68row3_col0\" class=\"data row3 col0\" >-0.90901</td>\n",
       "                        <td id=\"T_572c3fc2_6048_11e9_954b_305a3abddb68row3_col1\" class=\"data row3 col1\" >-171.34%</td>\n",
       "                        <td id=\"T_572c3fc2_6048_11e9_954b_305a3abddb68row3_col2\" class=\"data row3 col2\" >-0.759</td>\n",
       "                        <td id=\"T_572c3fc2_6048_11e9_954b_305a3abddb68row3_col3\" class=\"data row3 col3\" >0.081</td>\n",
       "            </tr>\n",
       "            <tr>\n",
       "                        <th id=\"T_572c3fc2_6048_11e9_954b_305a3abddb68level0_row4\" class=\"row_heading level0 row4\" >4</th>\n",
       "                        <td id=\"T_572c3fc2_6048_11e9_954b_305a3abddb68row4_col0\" class=\"data row4 col0\" >-0.466262</td>\n",
       "                        <td id=\"T_572c3fc2_6048_11e9_954b_305a3abddb68row4_col1\" class=\"data row4 col1\" >-1.42%</td>\n",
       "                        <td id=\"T_572c3fc2_6048_11e9_954b_305a3abddb68row4_col2\" class=\"data row4 col2\" >+1.181</td>\n",
       "                        <td id=\"T_572c3fc2_6048_11e9_954b_305a3abddb68row4_col3\" class=\"data row4 col3\" >-1.860</td>\n",
       "            </tr>\n",
       "    </tbody></table>"
      ],
      "text/plain": [
       "<pandas.io.formats.style.Styler at 0x23d3b781e80>"
      ]
     },
     "execution_count": 6,
     "metadata": {},
     "output_type": "execute_result"
    }
   ],
   "source": [
    "# 分列显示\n",
    "\n",
    "df.head().style.format({'b':\"{:.2%}\", 'c':\"{:+.3f}\", 'd':\"{:.3f}\"})"
   ]
  },
  {
   "cell_type": "code",
   "execution_count": null,
   "metadata": {},
   "outputs": [],
   "source": []
  }
 ],
 "metadata": {
  "kernelspec": {
   "display_name": "Python 3",
   "language": "python",
   "name": "python3"
  },
  "language_info": {
   "codemirror_mode": {
    "name": "ipython",
    "version": 3
   },
   "file_extension": ".py",
   "mimetype": "text/x-python",
   "name": "python",
   "nbconvert_exporter": "python",
   "pygments_lexer": "ipython3",
   "version": "3.6.3"
  }
 },
 "nbformat": 4,
 "nbformat_minor": 2
}
