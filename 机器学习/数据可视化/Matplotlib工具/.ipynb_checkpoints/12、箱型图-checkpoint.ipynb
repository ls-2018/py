{
 "cells": [
  {
   "cell_type": "code",
   "execution_count": null,
   "metadata": {},
   "outputs": [],
   "source": [
    "'''\n",
    "箱型图\n",
    "\n",
    "箱型图：又称为盒须图、盒式图、盒状图或箱线图，是一种用作显示一组数据分散情况资料的统计图\n",
    "包含一组数据的：最大值、最小值、中位数、上四分位数（Q3）、下四分位数（Q1）、异常值\n",
    "① 中位数 → 一组数据平均分成两份，中间的数\n",
    "② 上四分位数Q1 → 是将序列平均分成四份，计算(n+1)/4与(n-1)/4两种，一般使用(n+1)/4\n",
    "③ 下四分位数Q3 → 是将序列平均分成四份，计算(1+n)/4*3=6.75\n",
    "④ 内限 → T形的盒须就是内限，最大值区间Q3+1.5IQR,最小值区间Q1-1.5IQR （IQR=Q3-Q1）\n",
    "⑤ 外限 → T形的盒须就是内限，最大值区间Q3+3IQR,最小值区间Q1-3IQR （IQR=Q3-Q1）\n",
    "⑥ 异常值 → 内限之外 - 中度异常，外限之外 - 极度异常\n",
    "\n",
    "plt.plot.box(),plt.boxplot()\n",
    " \n",
    "'''"
   ]
  },
  {
   "cell_type": "code",
   "execution_count": null,
   "metadata": {},
   "outputs": [],
   "source": [
    "import numpy as np\n",
    "import pandas as pd\n",
    "import matplotlib.pyplot as plt"
   ]
  },
  {
   "cell_type": "code",
   "execution_count": null,
   "metadata": {},
   "outputs": [],
   "source": [
    "# plt.plot.box()绘制\n",
    "\n",
    "fig,axes = plt.subplots(2,1,figsize=(10,6))\n",
    "df = pd.DataFrame(np.random.rand(10, 5), columns=['A', 'B', 'C', 'D', 'E'])\n",
    "color = dict(boxes='DarkGreen', whiskers='DarkOrange', medians='DarkBlue', caps='Gray')\n",
    "# 箱型图着色\n",
    "# boxes → 箱线\n",
    "# whiskers → 分位数与error bar横线之间竖线的颜色\n",
    "# medians → 中位数线颜色\n",
    "# caps → error bar横线颜色\n",
    "\n",
    "df.plot.box(ylim=[0,1.2],\n",
    "           grid = True,\n",
    "           color = color,\n",
    "           ax = axes[0])\n",
    "# color：样式填充\n",
    "\n",
    "df.plot.box(vert=False, \n",
    "            positions=[1, 4, 5, 6, 8],\n",
    "            ax = axes[1],\n",
    "            grid = True,\n",
    "           color = color)\n",
    "# vert：是否垂直，默认True\n",
    "# position：箱型图占位"
   ]
  },
  {
   "cell_type": "code",
   "execution_count": null,
   "metadata": {},
   "outputs": [],
   "source": [
    "# plt.boxplot()绘制\n",
    "# pltboxplot(x, notch=None, sym=None, vert=None, whis=None, positions=None, widths=None, patch_artist=None, bootstrap=None, \n",
    "# usermedians=None, conf_intervals=None, meanline=None, showmeans=None, showcaps=None, showbox=None, showfliers=None, boxprops=None, \n",
    "# labels=None, flierprops=None, medianprops=None, meanprops=None, capprops=None, whiskerprops=None, manage_xticks=True, autorange=False, \n",
    "# zorder=None, hold=None, data=None)\n",
    "\n",
    "df = pd.DataFrame(np.random.rand(10, 5), columns=['A', 'B', 'C', 'D', 'E'])\n",
    "plt.figure(figsize=(10,4))\n",
    "# 创建图表、数据\n",
    "\n",
    "f = df.boxplot(sym = 'o',  # 异常点形状，参考marker\n",
    "               vert = True,  # 是否垂直\n",
    "               whis = 1.5,  # IQR，默认1.5，也可以设置区间比如[5,95]，代表强制上下边缘为数据95%和5%位置\n",
    "               patch_artist = True,  # 上下四分位框内是否填充，True为填充\n",
    "               meanline = False,showmeans=True,  # 是否有均值线及其形状\n",
    "               showbox = True,  # 是否显示箱线\n",
    "               showcaps = True,  # 是否显示边缘线\n",
    "               showfliers = True,  # 是否显示异常值\n",
    "               notch = False,  # 中间箱体是否缺口\n",
    "               return_type='dict'  # 返回类型为字典\n",
    "              ) \n",
    "plt.title('boxplot')\n",
    "print(f)\n",
    "\n",
    "for box in f['boxes']:\n",
    "    box.set( color='b', linewidth=1)        # 箱体边框颜色\n",
    "    box.set( facecolor = 'b' ,alpha=0.5)    # 箱体内部填充颜色\n",
    "for whisker in f['whiskers']:\n",
    "    whisker.set(color='k', linewidth=0.5,linestyle='-')\n",
    "for cap in f['caps']:\n",
    "    cap.set(color='gray', linewidth=2)\n",
    "for median in f['medians']:\n",
    "    median.set(color='DarkBlue', linewidth=2)\n",
    "for flier in f['fliers']:\n",
    "    flier.set(marker='o', color='y', alpha=0.5)\n",
    "# boxes, 箱线\n",
    "# medians, 中位值的横线,\n",
    "# whiskers, 从box到error bar之间的竖线.\n",
    "# fliers, 异常值\n",
    "# caps, error bar横线\n",
    "# means, 均值的横线,"
   ]
  },
  {
   "cell_type": "code",
   "execution_count": null,
   "metadata": {},
   "outputs": [],
   "source": [
    "# plt.boxplot()绘制\n",
    "# 分组汇总\n",
    "\n",
    "df = pd.DataFrame(np.random.rand(10,2), columns=['Col1', 'Col2'] )\n",
    "df['X'] = pd.Series(['A','A','A','A','A','B','B','B','B','B'])\n",
    "df['Y'] = pd.Series(['A','B','A','B','A','B','A','B','A','B'])\n",
    "print(df.head())\n",
    "df.boxplot(by = 'X')\n",
    "df.boxplot(column=['Col1','Col2'], by=['X','Y'])\n",
    "# columns：按照数据的列分子图\n",
    "# by：按照列分组做箱型图"
   ]
  },
  {
   "cell_type": "code",
   "execution_count": null,
   "metadata": {},
   "outputs": [],
   "source": []
  },
  {
   "cell_type": "code",
   "execution_count": null,
   "metadata": {},
   "outputs": [],
   "source": []
  },
  {
   "cell_type": "code",
   "execution_count": null,
   "metadata": {},
   "outputs": [],
   "source": []
  }
 ],
 "metadata": {
  "kernelspec": {
   "display_name": "Python 3",
   "language": "python",
   "name": "python3"
  },
  "language_info": {
   "codemirror_mode": {
    "name": "ipython",
    "version": 3
   },
   "file_extension": ".py",
   "mimetype": "text/x-python",
   "name": "python",
   "nbconvert_exporter": "python",
   "pygments_lexer": "ipython3",
   "version": "3.6.3"
  }
 },
 "nbformat": 4,
 "nbformat_minor": 2
}
