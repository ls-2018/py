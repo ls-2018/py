{
 "cells": [
  {
   "cell_type": "code",
   "execution_count": null,
   "metadata": {},
   "outputs": [],
   "source": [
    "'''\n",
    "直方图\n",
    "将数据按几份进行统计，将每份统计到的数据再以间隙为0的柱状图展示\n",
    "\n",
    "\n",
    "s.hist(\n",
    "    ['by=None', 'ax=None', 'grid=True', 'xlabelsize=None', 'xrot=None', 'ylabelsize=None', 'yrot=None', 'figsize=None', 'bins=10', '**kwds'],\n",
    ")\n",
    "Docstring:\n",
    "Draw histogram of the input series using matplotlib.\n",
    "\n",
    "Parameters\n",
    "----------\n",
    "by : object, optional\n",
    "    If passed, then used to form histograms for separate groups\n",
    "ax : matplotlib axis object\n",
    "    If not passed, uses gca()\n",
    "grid : boolean, default True\n",
    "    Whether to show axis grid lines\n",
    "xlabelsize : int, default None\n",
    "    If specified changes the x-axis label size\n",
    "xrot : float, default None\n",
    "    rotation of x axis labels\n",
    "ylabelsize : int, default None\n",
    "    If specified changes the y-axis label size\n",
    "yrot : float, default None\n",
    "    rotation of y axis labels\n",
    "figsize : tuple, default None\n",
    "    figure size in inches by default\n",
    "bins : integer or sequence, default 10\n",
    "    Number of histogram bins to be used. If an integer is given, bins + 1\n",
    "    bin edges are calculated and returned. If bins is a sequence, gives\n",
    "    bin edges, including left edge of first bin and right edge of last\n",
    "    bin. In this case, bins is returned unmodified.\n",
    "bins : integer, default 10\n",
    "    Number of histogram bins to be used\n",
    "\n",
    "'''"
   ]
  },
  {
   "cell_type": "code",
   "execution_count": 5,
   "metadata": {},
   "outputs": [],
   "source": [
    "import numpy as np\n",
    "import pandas as pd\n",
    "import matplotlib.pyplot as plt\n",
    "%matplotlib inline"
   ]
  },
  {
   "cell_type": "code",
   "execution_count": 22,
   "metadata": {},
   "outputs": [
    {
     "data": {
      "text/plain": [
       "<matplotlib.axes._subplots.AxesSubplot at 0x1c8d4824518>"
      ]
     },
     "execution_count": 22,
     "metadata": {},
     "output_type": "execute_result"
    },
    {
     "data": {
      "image/png": "[encoded data removed]",
      "text/plain": [
       "<Figure size 432x288 with 1 Axes>"
      ]
     },
     "metadata": {
      "needs_background": "light"
     },
     "output_type": "display_data"
    }
   ],
   "source": [
    "# 直方图+密度图\n",
    "\n",
    "s = pd.Series(np.random.randn(100))\n",
    " \n",
    "# 直方图 \n",
    "s.hist(bins = 10,\n",
    "       histtype = 'stepfilled',\n",
    "       align = 'mid',\n",
    "       orientation = 'vertical',\n",
    "       alpha=0.5,\n",
    "       density =True)\n",
    "# bin：要使用的直方图的箱数\n",
    "# density 标准化\n",
    "# histtype 风格，bar，barstacked，step，stepfilled\n",
    "# orientation 水平还是垂直{‘horizontal’, ‘vertical’}\n",
    "# align : {‘left’, ‘mid’, ‘right’}, optional(对齐方式)\n",
    "\n",
    "s.plot(kind='kde',style='k--')\n",
    "# 密度图"
   ]
  },
  {
   "cell_type": "code",
   "execution_count": 27,
   "metadata": {},
   "outputs": [
    {
     "data": {
      "text/plain": [
       "array([[<matplotlib.axes._subplots.AxesSubplot object at 0x000001C8D67ECB70>,\n",
       "        <matplotlib.axes._subplots.AxesSubplot object at 0x000001C8D68129B0>],\n",
       "       [<matplotlib.axes._subplots.AxesSubplot object at 0x000001C8D6843080>,\n",
       "        <matplotlib.axes._subplots.AxesSubplot object at 0x000001C8D6869710>]],\n",
       "      dtype=object)"
      ]
     },
     "execution_count": 27,
     "metadata": {},
     "output_type": "execute_result"
    },
    {
     "data": {
      "text/plain": [
       "<Figure size 432x288 with 0 Axes>"
      ]
     },
     "metadata": {},
     "output_type": "display_data"
    },
    {
     "data": {
      "image/png": "[encoded data removed]",
      "text/plain": [
       "<Figure size 432x288 with 1 Axes>"
      ]
     },
     "metadata": {
      "needs_background": "light"
     },
     "output_type": "display_data"
    },
    {
     "data": {
      "image/png": "[encoded data removed]",
      "text/plain": [
       "<Figure size 432x288 with 4 Axes>"
      ]
     },
     "metadata": {
      "needs_background": "light"
     },
     "output_type": "display_data"
    }
   ],
   "source": [
    "# 堆叠直方图\n",
    "\n",
    "plt.figure(num=1)\n",
    "df = pd.DataFrame({'a': np.random.randn(1000) + 1, 'b': np.random.randn(1000),\n",
    "                    'c': np.random.randn(1000) - 1, 'd': np.random.randn(1000)-2},\n",
    "                   columns=['a', 'b', 'c','d'])\n",
    "df.plot.hist(stacked=True,\n",
    "             bins=20,\n",
    "             colormap='Greens_r',\n",
    "             alpha=0.5,\n",
    "             grid=True)\n",
    "# 使用DataFrame.plot.hist()和Series.plot.hist()方法绘制\n",
    "# stacked：是否堆叠\n",
    "\n",
    "df.hist(bins=100)\n",
    "# 生成多个直方图"
   ]
  },
  {
   "cell_type": "code",
   "execution_count": null,
   "metadata": {},
   "outputs": [],
   "source": []
  }
 ],
 "metadata": {
  "kernelspec": {
   "display_name": "Python 3",
   "language": "python",
   "name": "python3"
  },
  "language_info": {
   "codemirror_mode": {
    "name": "ipython",
    "version": 3
   },
   "file_extension": ".py",
   "mimetype": "text/x-python",
   "name": "python",
   "nbconvert_exporter": "python",
   "pygments_lexer": "ipython3",
   "version": "3.6.3"
  }
 },
 "nbformat": 4,
 "nbformat_minor": 2
}
