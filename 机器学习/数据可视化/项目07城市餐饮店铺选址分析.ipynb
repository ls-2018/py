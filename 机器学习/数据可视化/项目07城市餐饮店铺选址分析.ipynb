{
 "cells": [
  {
   "cell_type": "code",
   "execution_count": null,
   "metadata": {},
   "outputs": [],
   "source": [
    "\"\"\"\n",
    "1、从三个维度【口味、人均消费、性价比 对不同菜系进行比较，并筛选出克开店铺的餐饮类型】\n",
    "\n",
    "要求：\n",
    "    ① 计算出三个维度的指标得分\n",
    "    ② 评价方法：\n",
    "        口味 --> 得分越高越好\n",
    "        评价比 --> 得分越高越好\n",
    "        人均消费 --> 价格适中即可\n",
    "    ③ 制作散点图，x轴为：人均消费，y轴为：性价比得分，点的大小为：口味得分\n",
    "        绘制柱状图，分别显示  口味的分，性价比得分\n",
    "        * 建议用bokeh作图\n",
    "\n",
    "提示：\n",
    "① 数据清洗：清除空值，为0的数据\n",
    "② 口味指标计算方法 → 口味评分字段，按照餐饮类别分别算均值，再做标准化处理\n",
    "③ 人均消费指标计算方法 → 人均消费字段，按照餐饮类别分组算均值，再做标准化处理\n",
    "④ 性价比指标计算方法 → 性价比=（口味+环境+服务）/人均消费，按照餐饮类别分组算均值，再做标准化处理\n",
    "⑤ 数据计算之前，处理一下数据分布，去除异常值（以外限为标准）\n",
    "    * 这里排除了高端奢侈餐饮的数据干扰\n",
    "⑥ 注意，这里先分别计算三个指标，再合并数据（merge）作图，目的是指标之间 的噪音数据不想不影响\n",
    "\n",
    "\n",
    "2、选择一个餐饮类型，在qgis中做将上海划分成格网空间，结合python辅助做空间指标评价，得到餐饮选址位置\n",
    "\n",
    "① net_population.shp   投影坐标系，上海1km2格网内的人口密度数据\n",
    "② road.shp 投影坐标系，上海道路数据\n",
    "\"\"\""
   ]
  }
 ],
 "metadata": {
  "kernelspec": {
   "display_name": "Python 3",
   "language": "python",
   "name": "python3"
  },
  "language_info": {
   "codemirror_mode": {
    "name": "ipython",
    "version": 3
   },
   "file_extension": ".py",
   "mimetype": "text/x-python",
   "name": "python",
   "nbconvert_exporter": "python",
   "pygments_lexer": "ipython3",
   "version": "3.6.3"
  }
 },
 "nbformat": 4,
 "nbformat_minor": 2
}
