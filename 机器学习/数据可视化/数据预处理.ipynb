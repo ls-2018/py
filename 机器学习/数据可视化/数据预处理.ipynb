{
 "cells": [
  {
   "cell_type": "code",
   "execution_count": 1,
   "metadata": {},
   "outputs": [],
   "source": [
    "import numpy as np\n",
    "import pandas as pd\n",
    "import matplotlib.pyplot as plt\n",
    "import seaborn as sns\n",
    "import warnings\n",
    "warnings.filterwarnings(\"ignore\")"
   ]
  },
  {
   "cell_type": "code",
   "execution_count": 2,
   "metadata": {},
   "outputs": [
    {
     "name": "stdout",
     "output_type": "stream",
     "text": [
      "数据长度 1\n",
      "数据字段为 ['name', '导演', '主演']\n"
     ]
    }
   ],
   "source": [
    "import os\n",
    "os.chdir('D:/Destop/')\n",
    "         #  cd\n",
    "# ?pd.read_excel\n",
    "df =pd.read_excel('豆瓣电影数据.xlsx',sheet_name=0,header=0)\n",
    "print('数据长度',len(df))\n",
    "print('数据字段为',df.columns.tolist())"
   ]
  },
  {
   "cell_type": "code",
   "execution_count": 8,
   "metadata": {},
   "outputs": [
    {
     "name": "stdout",
     "output_type": "stream",
     "text": [
      "  name     导演       主演\n",
      "0   张三  A/B/C  D/E/F/G\n",
      "----\n",
      "  yy0 yy1 yy2 yy3\n",
      "0   D   E   F   G\n",
      "----\n",
      "  dy0 dy1 dy2\n",
      "0   A   B   C\n"
     ]
    },
    {
     "data": {
      "text/html": [
       "<div>\n",
       "<style scoped>\n",
       "    .dataframe tbody tr th:only-of-type {\n",
       "        vertical-align: middle;\n",
       "    }\n",
       "\n",
       "    .dataframe tbody tr th {\n",
       "        vertical-align: top;\n",
       "    }\n",
       "\n",
       "    .dataframe thead th {\n",
       "        text-align: right;\n",
       "    }\n",
       "</style>\n",
       "<table border=\"1\" class=\"dataframe\">\n",
       "  <thead>\n",
       "    <tr style=\"text-align: right;\">\n",
       "      <th></th>\n",
       "      <th>dy0</th>\n",
       "      <th>dy1</th>\n",
       "      <th>dy2</th>\n",
       "      <th>yy0</th>\n",
       "      <th>yy1</th>\n",
       "      <th>yy2</th>\n",
       "      <th>yy3</th>\n",
       "      <th>name</th>\n",
       "    </tr>\n",
       "  </thead>\n",
       "  <tbody>\n",
       "    <tr>\n",
       "      <th>0</th>\n",
       "      <td>A</td>\n",
       "      <td>B</td>\n",
       "      <td>C</td>\n",
       "      <td>D</td>\n",
       "      <td>E</td>\n",
       "      <td>F</td>\n",
       "      <td>G</td>\n",
       "      <td>张三</td>\n",
       "    </tr>\n",
       "  </tbody>\n",
       "</table>\n",
       "</div>"
      ],
      "text/plain": [
       "  dy0 dy1 dy2 yy0 yy1 yy2 yy3 name\n",
       "0   A   B   C   D   E   F   G   张三"
      ]
     },
     "execution_count": 8,
     "metadata": {},
     "output_type": "execute_result"
    }
   ],
   "source": [
    "# 数据清洗\n",
    "data = df[['name','导演','主演']]\n",
    "data.dropna(inplace=True)\n",
    "\n",
    "data_yy = data['主演'].str.split('/',expand=True)   # 将这一列生成一个全新的EXCEL\n",
    "print(data)\n",
    "print('----')\n",
    "col_len1=len(data_yy.columns)\n",
    "data_yy.columns = ['yy'+str(i) for i in range(col_len1)]\n",
    "print(data_yy.head())\n",
    "\n",
    "print('----')\n",
    "data_dy = data['导演'].str.split('/',expand=True)   # 将这一列生成一个全新的EXCEL\n",
    "col_len2=len(data_dy.columns)\n",
    "data_dy.columns = ['dy'+str(i) for i in range(col_len2)]\n",
    "print(data_dy.head())\n",
    "\n",
    "\n",
    "data2 = data_dy.join(data_yy).join(data['name'])   # 一行一行地合并\n",
    "print(data2)\n",
    "data2[data2['yy3'].notnull()]"
   ]
  },
  {
   "cell_type": "code",
   "execution_count": 1,
   "metadata": {},
   "outputs": [],
   "source": [
    "# 汇总统计导演和演员的合作次数\n",
    "result = data_re.groupby(['导演','演员']).count()\n",
    "\n",
    "result.reset_index(inplace=True)\n",
    "\n",
    "# 按照导演--->演员进行计数统计，得到结果数据\n",
    "# reset_index  将所有索引级别转换为列\n",
    "\n",
    "writer = pd.ExcelWriter('output.xlsx')\n",
    "result.to_excel(writer,'sheet1')\n",
    "\n",
    "writer.save()"
   ]
  },
  {
   "cell_type": "code",
   "execution_count": null,
   "metadata": {},
   "outputs": [],
   "source": []
  }
 ],
 "metadata": {
  "kernelspec": {
   "display_name": "Python 3",
   "language": "python",
   "name": "python3"
  },
  "language_info": {
   "codemirror_mode": {
    "name": "ipython",
    "version": 3
   },
   "file_extension": ".py",
   "mimetype": "text/x-python",
   "name": "python",
   "nbconvert_exporter": "python",
   "pygments_lexer": "ipython3",
   "version": "3.6.3"
  }
 },
 "nbformat": 4,
 "nbformat_minor": 2
}
