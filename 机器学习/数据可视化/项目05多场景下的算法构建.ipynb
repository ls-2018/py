{
 "cells": [
  {
   "cell_type": "code",
   "execution_count": null,
   "metadata": {
    "collapsed": true
   },
   "outputs": [],
   "source": [
    "'''\n",
    "【项目05】  多场景下的算法构建\n",
    "\n",
    "课程数据：\n",
    "某公司A,B产品在2018年1,2,3月的销量数据，数据格式为xlsx\n",
    "\n",
    "作业要求：\n",
    "1、批量读取数据，并输出以下信息\n",
    "（1）数据量\n",
    "（2）数据字段columns\n",
    "（3）输出每个文件分别有多少缺失值\n",
    "要求：\n",
    "① 创建独立函数，从读取数据到以上输出要求\n",
    "② 运行代码多次调用创建函数，对数据进行批量处理\n",
    "提示：\n",
    "① 将课程excel数据放入单独文件夹(建议英文路径)，函数中通过input来输入excel数据所在文件夹路径，再通过遍历来读取文件\n",
    "② pd.read_excel()中用“index_col”参数，将第一列变为index\n",
    "③ os.walk(path) → 返回路径中的信息及文件，结果为一个生成器\n",
    "④ 定位缺失值位置：data[data.isnull().values == True]\n",
    "\n",
    "2、批量读取数据，用均值填充缺失值数据，并完成以下计算及图表制作\n",
    "（1）读取数据并用均值填充缺失值；对“日期”字段进行时间序列处理，转换成日period ，最后输出三个Dataframe文件data1,data2,data3\n",
    "（2）分别计算data1，data2，data3中A,B产品的月总销量，并绘制多系列柱状图，存储在对应的图片文件夹路径\n",
    "（3）分别计算A产品在每个月中哪一天超过了月度80%的销量，输出日期\n",
    "要求：\n",
    "① 分别创建四个函数，对应完成上述需求\n",
    "② 数据文件夹路径和图片存储路径不要相同\n",
    "提示：\n",
    "① 时间序列转换方法提示：pd.to_period\n",
    "② 时间戳Timestampe转化成字符串用str()方法\n",
    "\n",
    "3、读取数据并合并，做散点图观察A,B产品销量，并做回归，预测当A销量为1200时，B产品销量值\n",
    "（1）读取数据删除缺失值；对“日期”字段进行时间序列处理，转换成日period ，合并三个月数据，输出data；\n",
    "（2）针对A产品销量和B产品销量数据做回归分析，制作散点图并存储，并预测当A销量为1200时，B产品销量值\n",
    "要求：\n",
    "① 分别创建两个函数，对应完成上述需求\n",
    "② 数据文件夹路径和图片存储路径不要相同\n",
    "提示：\n",
    "① 用pd.dripna方法去掉缺失值，注意inplace参数\n",
    "\n",
    "'''"
   ]
  },
  {
   "cell_type": "code",
   "execution_count": 1,
   "metadata": {
    "collapsed": true
   },
   "outputs": [],
   "source": [
    "import numpy as np\n",
    "import pandas as pd\n",
    "import matplotlib.pyplot as plt\n",
    "from sklearn.linear_model import LinearRegression\n",
    "import os\n",
    "% matplotlib inline"
   ]
  },
  {
   "cell_type": "code",
   "execution_count": 2,
   "metadata": {
    "collapsed": false
   },
   "outputs": [
    {
     "name": "stdout",
     "output_type": "stream",
     "text": [
      "第1个数据数据量为：31\n",
      "第1个数据数据字段为： ['productA', 'productB']\n",
      "第1个数据缺失值数量为：3\n",
      "------\n",
      "第2个数据数据量为：28\n",
      "第2个数据数据字段为： ['productA', 'productB']\n",
      "第2个数据缺失值数量为：4\n",
      "------\n",
      "第3个数据数据量为：31\n",
      "第3个数据数据字段为： ['productA', 'productB']\n",
      "第3个数据缺失值数量为：3\n",
      "------\n",
      "finished!\n"
     ]
    }
   ],
   "source": [
    "'''\n",
    "1、批量读取数据，并输出以下信息\n",
    "（1）数据量\n",
    "（2）数据字段columns\n",
    "（3）输出每个文件分别有多少缺失值\n",
    "要求：\n",
    "① 创建独立函数，从读取数据到以上输出要求\n",
    "② 运行代码多次调用创建函数，对数据进行批量处理\n",
    "提示：\n",
    "① 将课程excel数据放入单独文件夹(建议英文路径)\n",
    "② pd.read_excel()中用“index_col”参数，将第一列变为index\n",
    "③ os.walk(path) → 返回路径中的信息及文件，结果为一个生成器\n",
    "④ 定位缺失值位置：data[data.isnull().values == True]\n",
    "\n",
    "'''\n",
    "\n",
    "def f1_1():\n",
    "    path = 'C:/Users/Hjx/Desktop/项目05多场景下的算法构建/'\n",
    "    folder = os.walk(path)   # 遍历文件夹\n",
    "    files = list(folder)[0][2]\n",
    "    n = 1\n",
    "    for i in files:\n",
    "        file = path + i\n",
    "        data = pd.read_excel(file,index_col = 0)\n",
    "        data_counts = len(data)   # 计算数据量\n",
    "        columns = data.columns.tolist()  # 输出数据columns\n",
    "        nan_counts = len(data[data.isnull().values == True])   # 计算缺失值数量\n",
    "        print('第%i个数据数据量为：%i' % (n, data_counts))\n",
    "        print('第%i个数据数据字段为：' % n,columns)\n",
    "        print('第%i个数据缺失值数量为：%i' % (n, nan_counts))\n",
    "        print('------')\n",
    "        n += 1\n",
    "        \n",
    "f1_1() # 运行函数\n",
    "print('finished!')"
   ]
  },
  {
   "cell_type": "code",
   "execution_count": 3,
   "metadata": {
    "collapsed": false
   },
   "outputs": [
    {
     "name": "stdout",
     "output_type": "stream",
     "text": [
      "运行函数f2_1(), 分别得到 data1，data2，data3\n",
      "-------\n",
      "运行函数f2_2(), 求出不同月份A,B产品总销量，并制作图表\n",
      "-------\n",
      "A产品月度超过80%的销量日期分别为\n",
      " ['2018-01-26 00:00:00', '2018-02-23 00:00:00', '2018-03-25 00:00:00']\n",
      "运行函数f2_3(), 求出A产品每个月中超过了月度80%的销量的日期\n",
      "-------\n"
     ]
    },
    {
     "data": {
      "text/plain": [
       "<matplotlib.figure.Figure at 0xb6b1748>"
      ]
     },
     "metadata": {},
     "output_type": "display_data"
    },
    {
     "data": {
      "image/png": "[encoded data removed]",
      "text/plain": [
       "<matplotlib.figure.Figure at 0xb693c50>"
      ]
     },
     "metadata": {},
     "output_type": "display_data"
    }
   ],
   "source": [
    "'''\n",
    "2、批量读取数据，用均值填充缺失值数据，并完成以下计算及图表制作\n",
    "（1）读取数据并用均值填充缺失值；对“日期”字段进行时间序列处理，转换成日period ，最后输出三个Dataframe文件data1,data2,data3\n",
    "（2）分别计算data1，data2，data3中A,B产品的月总销量，并绘制多系列柱状图，存储在对应的图片文件夹路径\n",
    "（3）分别计算A产品在每个月中哪一天超过了月度80%的销量，输出日期\n",
    "要求：\n",
    "① 分别创建四个函数，对应完成上述需求\n",
    "② 数据文件夹路径和图片存储路径不要相同\n",
    "提示：\n",
    "① 时间序列转换方法提示：pd.to_period\n",
    "② 时间戳Timestampe转化成字符串用str()方法\n",
    "\n",
    "'''\n",
    "\n",
    "# 创建函数f2_1() → 完成问题2-1\n",
    "def f2_1():\n",
    "    path = 'C:/Users/Hjx/Desktop/项目05多场景下的算法构建/'\n",
    "    folder = os.walk(path)   # 遍历文件夹\n",
    "    files = list(folder)[0][2]\n",
    "    data_files = []\n",
    "    for i in files:\n",
    "        file = path + i\n",
    "        data = pd.read_excel(file,index_col = 0)\n",
    "        columns = data.columns.tolist()  # 提取列名\n",
    "        data.to_period()  # 转换成时间序列\n",
    "        data[columns[0]].fillna(data[columns[0]].mean(),inplace = True)  \n",
    "        data[columns[1]].fillna(data[columns[1]].mean(),inplace = True)\n",
    "        # 均值填充缺失值\n",
    "        data_files.append(data)\n",
    "    return(data_files)\n",
    "\n",
    "\n",
    "# 创建函数f2_2() → 完成问题2-2   \n",
    "def f2_2(*data_files):\n",
    "    path = 'C:/Users/Hjx/Desktop/项目05图片保存位置/'\n",
    "    A_sale = []\n",
    "    B_sale = []\n",
    "    for data in data_files:\n",
    "        columns = data.columns  # 提取列名\n",
    "        A_sale.append(data[columns[0]].sum())   # 更新A产品总销售量\n",
    "        B_sale.append(data[columns[1]].sum())   # 更新B产品总销售量\n",
    "    df = pd.DataFrame({'A_sale_sum': A_sale,'B_sale_sum':B_sale},\n",
    "                     index = pd.period_range('201801','201803',freq = 'M'))\n",
    "    #print(df)   \n",
    "    # 查看数据\n",
    "    plt.figure()\n",
    "    df.plot(kind = 'bar',style = '--o',color = ['r','g'],alpha = 0.8, rot = 0,figsize = (8,4))\n",
    "    plt.title('1-3月A,B产品总销量柱状图')\n",
    "    plt.ylim([0,25000])\n",
    "    plt.legend(loc = 'upper left')\n",
    "    plt.grid()\n",
    "    plt.savefig(path + '1-3月A,B产品总销量柱状图.png',dpi=400)\n",
    "    # 绘制图表，并导出图表\n",
    "\n",
    "    \n",
    "# 创建函数f2_3() → 完成问题2-3       \n",
    "def f2_3(*data_files):\n",
    "    keydates = []\n",
    "    for data in data_files:\n",
    "        columns = data.columns  # 提取列名\n",
    "        data['A_sale_sum%'] = data[columns[0]].cumsum() / data[columns[0]].sum()  # 计算A产品累计销量占比\n",
    "        keydate = data[data['A_sale_sum%']>0.8].index[0]  \n",
    "        keydates.append(str(keydate))\n",
    "        # 记录销量超过80%的日期\n",
    "    print('A产品月度超过80%的销量日期分别为\\n', keydates)\n",
    "    return(keydates)\n",
    "\n",
    "\n",
    "f2_1()\n",
    "data1, data2, data3 = f2_1()[0], f2_1()[1], f2_1()[2]\n",
    "#print(data1.head(),'\\n-----')\n",
    "#print(data1.head(),'\\n-----')\n",
    "#print(data1.head(),'\\n-----')\n",
    "print('运行函数f2_1(), 分别得到 data1，data2，data3\\n-------')\n",
    "\n",
    "f2_2(data1,data2,data3)\n",
    "print('运行函数f2_2(), 求出不同月份A,B产品总销量，并制作图表\\n-------')\n",
    "\n",
    "f2_3(data1,data2,data3)\n",
    "print('运行函数f2_3(), 求出A产品每个月中超过了月度80%的销量的日期\\n-------')"
   ]
  },
  {
   "cell_type": "code",
   "execution_count": 4,
   "metadata": {
    "collapsed": false,
    "scrolled": false
   },
   "outputs": [
    {
     "name": "stdout",
     "output_type": "stream",
     "text": [
      "运行函数f3_1(), 查看AB产品销量关系，并制作图表\n",
      "-------\n",
      "预测当A销量为1200时，B产品销量值为1303.8\n",
      "运行函数f3_2(), 对AB产品销量数据做回归分析并制图，并预测当A销量为1200时，B产品销量值\n",
      "-------\n"
     ]
    },
    {
     "data": {
      "image/png": "[encoded data removed]",
      "text/plain": [
       "<matplotlib.figure.Figure at 0x75e2c18>"
      ]
     },
     "metadata": {},
     "output_type": "display_data"
    }
   ],
   "source": [
    "'''\n",
    "3、读取数据并合并，做散点图观察A,B产品销量，并做回归，预测当A销量为1200时，B产品销量值\n",
    "（1）读取数据删除缺失值；对“日期”字段进行时间序列处理，转换成日period ，合并三个月数据，输出data；\n",
    "（2）针对A产品销量和B产品销量数据做回归分析，制作散点图并存储，并预测当A销量为1200时，B产品销量值\n",
    "要求：\n",
    "① 分别创建两个函数，对应完成上述需求\n",
    "② 数据文件夹路径和图片存储路径不要相同\n",
    "提示：\n",
    "① 用pd.dripna方法去掉缺失值，注意inplace参数\n",
    "\n",
    "'''\n",
    "\n",
    "# 创建函数f3_1() → 完成问题3-1\n",
    "def f3_1():\n",
    "    path = 'C:/Users/Hjx/Desktop/项目05多场景下的算法构建/'\n",
    "    folder = os.walk(path)   # 遍历文件夹\n",
    "    files = list(folder)[0][2]\n",
    "    data_files = []\n",
    "    for i in files:\n",
    "        file = path + i\n",
    "        data = pd.read_excel(file,index_col = 0)\n",
    "        columns = data.columns.tolist()  # 提取列名\n",
    "        data.to_period()  # 转换成时间序列\n",
    "        data.dropna(inplace=True)  # 删除缺失值\n",
    "        data_files.append(data)\n",
    "    data = pd.concat([data_files[0],data_files[1],data_files[2]])  # 合并数据\n",
    "    return(data)\n",
    "\n",
    "\n",
    "# 创建函数f3_2() → 完成问题3-2\n",
    "def f3_2(data):\n",
    "    path = 'C:/Users/Hjx/Desktop/项目05图片保存位置/'\n",
    "    model = LinearRegression()\n",
    "    model.fit(data['productA'][:,np.newaxis],data['productB'])  \n",
    "    # 构建回归模型\n",
    "    xtest = np.linspace(0,1000,1000)\n",
    "    ytest = model.predict(xtest[:,np.newaxis])\n",
    "    plt.scatter(data['productA'],data['productB'],marker = '.',color = 'k')\n",
    "    plt.plot(xtest,ytest,color = 'r')\n",
    "    plt.grid(True)\n",
    "    plt.title('A-B产品销量回归拟合')\n",
    "    plt.savefig(path + 'A-B产品销量回归拟合.png',dpi=400)  \n",
    "    # 存储图表\n",
    "    return(model.predict(1200))\n",
    "\n",
    "f3_1()\n",
    "data = f3_1()\n",
    "print('运行函数f3_1(), 查看AB产品销量关系，并制作图表\\n-------')\n",
    "\n",
    "f3_2(data)\n",
    "print('预测当A销量为1200时，B产品销量值为%.1f' % f3_2(data))\n",
    "print('运行函数f3_2(), 对AB产品销量数据做回归分析并制图，并预测当A销量为1200时，B产品销量值\\n-------')"
   ]
  }
 ],
 "metadata": {
  "kernelspec": {
   "display_name": "Python [default]",
   "language": "python",
   "name": "python3"
  },
  "language_info": {
   "codemirror_mode": {
    "name": "ipython",
    "version": 3
   },
   "file_extension": ".py",
   "mimetype": "text/x-python",
   "name": "python",
   "nbconvert_exporter": "python",
   "pygments_lexer": "ipython3",
   "version": "3.5.2"
  }
 },
 "nbformat": 4,
 "nbformat_minor": 1
}
