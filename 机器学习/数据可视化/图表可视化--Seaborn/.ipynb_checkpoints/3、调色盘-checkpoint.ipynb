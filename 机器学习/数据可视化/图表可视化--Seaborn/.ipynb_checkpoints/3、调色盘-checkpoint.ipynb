{
 "cells": [
  {
   "cell_type": "code",
   "execution_count": 1,
   "metadata": {},
   "outputs": [],
   "source": [
    "# 调色盘\n",
    "# 对图表整体颜色，比例等进行风格设置，包括颜色色板等\n",
    "# 调用系统风格进行数据可视化\n",
    "# color_palette"
   ]
  },
  {
   "cell_type": "code",
   "execution_count": 2,
   "metadata": {},
   "outputs": [],
   "source": [
    "import numpy as np\n",
    "import pandas as pd\n",
    "import matplotlib.pyplot as plt\n",
    "import seaborn as sns\n",
    "import warnings\n",
    "warnings.filterwarnings(\"ignore\")"
   ]
  },
  {
   "cell_type": "code",
   "execution_count": 3,
   "metadata": {},
   "outputs": [
    {
     "data": {
      "image/png": "[encoded data removed]",
      "text/plain": [
       "<Figure size 720x72 with 1 Axes>"
      ]
     },
     "metadata": {
      "needs_background": "light"
     },
     "output_type": "display_data"
    }
   ],
   "source": [
    "\"\"\"\n",
    "color_palette\n",
    "默认有六种颜色   deep muted pastel  bright  dark   colorblind\n",
    "\"\"\"\n",
    "current_palette = sns.color_palette()  # 读取默认颜色\n",
    "sns.palplot(current_palette)       # 显示调色盘"
   ]
  },
  {
   "cell_type": "code",
   "execution_count": 4,
   "metadata": {},
   "outputs": [
    {
     "data": {
      "image/png": "[encoded data removed]",
      "text/plain": [
       "<Figure size 576x72 with 1 Axes>"
      ]
     },
     "metadata": {
      "needs_background": "light"
     },
     "output_type": "display_data"
    }
   ],
   "source": [
    "current_palette = sns.color_palette('hls',8)  # hls调色板，8个色块\n",
    "sns.palplot(current_palette)   "
   ]
  },
  {
   "cell_type": "code",
   "execution_count": 7,
   "metadata": {},
   "outputs": [
    {
     "data": {
      "image/png": "[encoded data removed]",
      "text/plain": [
       "<Figure size 720x72 with 1 Axes>"
      ]
     },
     "metadata": {
      "needs_background": "light"
     },
     "output_type": "display_data"
    }
   ],
   "source": [
    "# 分组颜色设置   \n",
    "# Paired 调色板\n",
    "sns.palplot(sns.color_palette('Paired',10))"
   ]
  },
  {
   "cell_type": "code",
   "execution_count": 13,
   "metadata": {},
   "outputs": [
    {
     "data": {
      "image/png": "[encoded data removed]",
      "text/plain": [
       "<Figure size 576x72 with 1 Axes>"
      ]
     },
     "metadata": {
      "needs_background": "light"
     },
     "output_type": "display_data"
    }
   ],
   "source": [
    "# 设置亮度，饱和度\n",
    "# 可用方法\n",
    "# husl_palette([n_colors,h,s,1])\n",
    "# hls_palette([n_colors,h,l,s])\n",
    "\n",
    "sns.palplot(sns.hls_palette(8,l=.1,s=0.8))# 亮度，饱和度"
   ]
  },
  {
   "cell_type": "code",
   "execution_count": 14,
   "metadata": {},
   "outputs": [
    {
     "data": {
      "image/png": "[encoded data removed]",
      "text/plain": [
       "<Figure size 576x72 with 1 Axes>"
      ]
     },
     "metadata": {
      "needs_background": "light"
     },
     "output_type": "display_data"
    },
    {
     "data": {
      "image/png": "[encoded data removed]",
      "text/plain": [
       "<Figure size 576x72 with 1 Axes>"
      ]
     },
     "metadata": {
      "needs_background": "light"
     },
     "output_type": "display_data"
    },
    {
     "data": {
      "image/png": "[encoded data removed]",
      "text/plain": [
       "<Figure size 576x72 with 1 Axes>"
      ]
     },
     "metadata": {
      "needs_background": "light"
     },
     "output_type": "display_data"
    }
   ],
   "source": [
    "# cubehelix_palette 按照线性增长计算，设置颜色\n",
    "sns.palplot(sns.cubehelix_palette(8,gamma=2))\n",
    "sns.palplot(sns.cubehelix_palette(8,start=.5,rot=.7))\n",
    "sns.palplot(sns.cubehelix_palette(8,start=2,rot=0,dark=0,light=0.95,reverse=True))\n",
    "\"\"\"\n",
    "n_colors  颜色个数\n",
    "start  0-3之间\n",
    "rot   颜色旋转角度\n",
    "gamma    颜色伽马值，越大越暗\n",
    "dark,light   0-1之间\n",
    "reverse      默认false,由浅到深\n",
    "\"\"\""
   ]
  },
  {
   "cell_type": "code",
   "execution_count": 15,
   "metadata": {},
   "outputs": [
    {
     "data": {
      "image/png": "[encoded data removed]",
      "text/plain": [
       "<Figure size 432x72 with 1 Axes>"
      ]
     },
     "metadata": {
      "needs_background": "light"
     },
     "output_type": "display_data"
    },
    {
     "data": {
      "image/png": "[encoded data removed]",
      "text/plain": [
       "<Figure size 432x72 with 1 Axes>"
      ]
     },
     "metadata": {
      "needs_background": "light"
     },
     "output_type": "display_data"
    },
    {
     "data": {
      "image/png": "[encoded data removed]",
      "text/plain": [
       "<Figure size 432x72 with 1 Axes>"
      ]
     },
     "metadata": {
      "needs_background": "light"
     },
     "output_type": "display_data"
    }
   ],
   "source": [
    "# dark_palette / light_palette\n",
    "# 颜色深浅\n",
    "sns.palplot(sns.light_palette('green'))#  按照green做浅色调色盘\n",
    "sns.palplot(sns.color_palette('Greens'))# cmap为Greens风格\n",
    "color='g'\n",
    "cmap='Greens'\n",
    "\n",
    "sns.palplot(sns.dark_palette('red',reverse=True))# 按照blue做深色调色盘"
   ]
  },
  {
   "cell_type": "code",
   "execution_count": 19,
   "metadata": {},
   "outputs": [
    {
     "data": {
      "text/plain": [
       "<matplotlib.axes._subplots.AxesSubplot at 0x21b44d860f0>"
      ]
     },
     "execution_count": 19,
     "metadata": {},
     "output_type": "execute_result"
    },
    {
     "data": {
      "image/png": "[encoded data removed]",
      "text/plain": [
       "<Figure size 504x72 with 1 Axes>"
      ]
     },
     "metadata": {
      "needs_background": "light"
     },
     "output_type": "display_data"
    },
    {
     "data": {
      "image/png": "[encoded data removed]",
      "text/plain": [
       "<Figure size 576x432 with 2 Axes>"
      ]
     },
     "metadata": {
      "needs_background": "light"
     },
     "output_type": "display_data"
    }
   ],
   "source": [
    "# diverging_palette\n",
    "# 创建分散颜色\n",
    "\"\"\"\n",
    "h_neg  h_pos    起始、终止颜色值\n",
    "s      0-100 饱和值\n",
    "l  0-100 亮度\n",
    "n  颜色个数\n",
    "center    中心颜色为浅色还是深色  light   dark  默认light\n",
    "\n",
    "\"\"\"\n",
    "sns.palplot(sns.diverging_palette(145,280,s=85,l=25,n=7,center='light',as_cmap=False))\n",
    "\n",
    "\n",
    "\n",
    "plt.figure(figsize=(8,6))\n",
    "x = np.arange(25).reshape(5,5)\n",
    "cmap = sns.diverging_palette(200,20,sep=20,as_cmap=True)\n",
    "sns.heatmap(x,cmap=cmap) # 热力图\n"
   ]
  },
  {
   "cell_type": "code",
   "execution_count": null,
   "metadata": {},
   "outputs": [],
   "source": []
  }
 ],
 "metadata": {
  "kernelspec": {
   "display_name": "Python 3",
   "language": "python",
   "name": "python3"
  },
  "language_info": {
   "codemirror_mode": {
    "name": "ipython",
    "version": 3
   },
   "file_extension": ".py",
   "mimetype": "text/x-python",
   "name": "python",
   "nbconvert_exporter": "python",
   "pygments_lexer": "ipython3",
   "version": "3.6.3"
  }
 },
 "nbformat": 4,
 "nbformat_minor": 2
}
