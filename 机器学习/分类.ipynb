{
 "cells": [
  {
   "cell_type": "raw",
   "metadata": {},
   "source": [
    "案例：\n",
    "    已经有一组电影数据\n",
    "        可以看出电影的数据及分类，最后一步  未知   的需要预测处于哪个分类中\n",
    "        将数据中的打斗次数属性标记为X，接吻次数标记为Y，则可以将数据化为坐标中的点。\n",
    "        \n",
    "        E（x,y） = sqrt((x2-x1)**2 + (y2-y1)**2)\n",
    "          \n",
    "       # sklearn 模块的neighbors功能"
   ]
  },
  {
   "cell_type": "code",
   "execution_count": 3,
   "metadata": {},
   "outputs": [],
   "source": [
    "import numpy as np\n",
    "import pandas as pd\n",
    "import matplotlib.pyplot as plt\n",
    "from scipy import stats"
   ]
  },
  {
   "cell_type": "code",
   "execution_count": 70,
   "metadata": {},
   "outputs": [
    {
     "data": {
      "text/plain": [
       "KNeighborsClassifier(algorithm='auto', leaf_size=30, metric='minkowski',\n",
       "           metric_params=None, n_jobs=None, n_neighbors=5, p=2,\n",
       "           weights='uniform')"
      ]
     },
     "execution_count": 70,
     "metadata": {},
     "output_type": "execute_result"
    },
    {
     "data": {
      "image/png": "[encoded data removed]",
      "text/plain": [
       "<Figure size 432x288 with 1 Axes>"
      ]
     },
     "metadata": {
      "needs_background": "light"
     },
     "output_type": "display_data"
    }
   ],
   "source": [
    "from sklearn import neighbors  # 导入KNN功能模块\n",
    "import warnings\n",
    "warnings.filterwarnings('ignore')\n",
    "# 不发出警告\n",
    "\n",
    "data = pd.DataFrame({\n",
    "    'name':['北京遇上西雅图','喜欢你','疯狂动物城','战狼2','力王','敢死队'],\n",
    "    'fight':[3,2,1,101,99,98],\n",
    "    'kiss':[104,100,81,10,5,2],\n",
    "    'type':['Romance','Romance','Romance','Action','Action','Action'],\n",
    "})\n",
    "\n",
    "\n",
    "\n",
    "plt.scatter(data[data['type'] == 'Romance']['fight'],data[data['type']=='Romance']['kiss'],color='r',marker='o',label='Romance' )\n",
    "plt.scatter(data[data['type'] == 'Action']['fight'],data[data['type']=='Action']['kiss'],color='k',marker='o',label='Action' )\n",
    "plt.grid()\n",
    "plt.legend()\n",
    "plt.ylabel('kiss')\n",
    "plt.xlabel('fight')\n",
    "\n",
    "knn = neighbors.KNeighborsClassifier()\n",
    "knn.fit(data[['fight','kiss']],data['type'])"
   ]
  },
  {
   "cell_type": "code",
   "execution_count": 76,
   "metadata": {},
   "outputs": [
    {
     "data": {
      "text/html": [
       "<div>\n",
       "<style scoped>\n",
       "    .dataframe tbody tr th:only-of-type {\n",
       "        vertical-align: middle;\n",
       "    }\n",
       "\n",
       "    .dataframe tbody tr th {\n",
       "        vertical-align: top;\n",
       "    }\n",
       "\n",
       "    .dataframe thead th {\n",
       "        text-align: right;\n",
       "    }\n",
       "</style>\n",
       "<table border=\"1\" class=\"dataframe\">\n",
       "  <thead>\n",
       "    <tr style=\"text-align: right;\">\n",
       "      <th></th>\n",
       "      <th>fight</th>\n",
       "      <th>kiss</th>\n",
       "      <th>typetest</th>\n",
       "    </tr>\n",
       "  </thead>\n",
       "  <tbody>\n",
       "    <tr>\n",
       "      <th>0</th>\n",
       "      <td>10.858562</td>\n",
       "      <td>35.073749</td>\n",
       "      <td>Romance</td>\n",
       "    </tr>\n",
       "    <tr>\n",
       "      <th>1</th>\n",
       "      <td>10.861415</td>\n",
       "      <td>8.761223</td>\n",
       "      <td>Action</td>\n",
       "    </tr>\n",
       "    <tr>\n",
       "      <th>2</th>\n",
       "      <td>38.922184</td>\n",
       "      <td>38.177703</td>\n",
       "      <td>Action</td>\n",
       "    </tr>\n",
       "    <tr>\n",
       "      <th>3</th>\n",
       "      <td>24.976483</td>\n",
       "      <td>4.449828</td>\n",
       "      <td>Action</td>\n",
       "    </tr>\n",
       "    <tr>\n",
       "      <th>4</th>\n",
       "      <td>19.913207</td>\n",
       "      <td>26.574810</td>\n",
       "      <td>Romance</td>\n",
       "    </tr>\n",
       "  </tbody>\n",
       "</table>\n",
       "</div>"
      ],
      "text/plain": [
       "       fight       kiss typetest\n",
       "0  10.858562  35.073749  Romance\n",
       "1  10.861415   8.761223   Action\n",
       "2  38.922184  38.177703   Action\n",
       "3  24.976483   4.449828   Action\n",
       "4  19.913207  26.574810  Romance"
      ]
     },
     "execution_count": 76,
     "metadata": {},
     "output_type": "execute_result"
    },
    {
     "data": {
      "image/png": "[encoded data removed]",
      "text/plain": [
       "<Figure size 432x288 with 1 Axes>"
      ]
     },
     "metadata": {
      "needs_background": "light"
     },
     "output_type": "display_data"
    }
   ],
   "source": [
    "data2 = pd.DataFrame(np.random.rand(100,2)*50,columns=['fight','kiss'])\n",
    "data2['typetest'] = knn.predict(data2)\n",
    "\n",
    "plt.scatter(data[data['type'] == 'Romance']['fight'],data[data['type']=='Romance']['kiss'],color='r',marker='o',label='Romance' )\n",
    "plt.scatter(data[data['type'] == 'Action']['fight'],data[data['type']=='Action']['kiss'],color='g',marker='o',label='Action' )\n",
    "plt.grid()\n",
    "plt.legend()\n",
    "\n",
    "plt.scatter(data2[data2['typetest'] == 'Romance']['fight'],data2[data2['typetest']=='Romance']['kiss'],color='r',marker='x',label='Romance' )\n",
    "plt.scatter(data2[data2['typetest'] == 'Action']['fight'],data2[data2['typetest']=='Action']['kiss'],color='g',marker='x',label='Action' )\n",
    "data2.head()"
   ]
  },
  {
   "cell_type": "code",
   "execution_count": null,
   "metadata": {},
   "outputs": [],
   "source": []
  }
 ],
 "metadata": {
  "kernelspec": {
   "display_name": "Python 3",
   "language": "python",
   "name": "python3"
  },
  "language_info": {
   "codemirror_mode": {
    "name": "ipython",
    "version": 3
   },
   "file_extension": ".py",
   "mimetype": "text/x-python",
   "name": "python",
   "nbconvert_exporter": "python",
   "pygments_lexer": "ipython3",
   "version": "3.6.3"
  }
 },
 "nbformat": 4,
 "nbformat_minor": 2
}
