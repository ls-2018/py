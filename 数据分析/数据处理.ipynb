{
 "cells": [
  {
   "cell_type": "code",
   "execution_count": 2,
   "metadata": {},
   "outputs": [],
   "source": [
    "# 确实值的处理:  删除、插补、不处理"
   ]
  },
  {
   "cell_type": "code",
   "execution_count": 6,
   "metadata": {},
   "outputs": [],
   "source": [
    "import numpy as np\n",
    "import pandas as pd\n",
    "import matplotlib.pyplot as plt\n",
    "from scipy import stats"
   ]
  },
  {
   "cell_type": "code",
   "execution_count": 57,
   "metadata": {},
   "outputs": [
    {
     "name": "stdout",
     "output_type": "stream",
     "text": [
      "0    False\n",
      "1    False\n",
      "2    False\n",
      "3    False\n",
      "4     True\n",
      "5     True\n",
      "6    False\n",
      "7    False\n",
      "8     True\n",
      "9    False\n",
      "dtype: bool\n",
      "    value1  value2\n",
      "0    False   False\n",
      "1    False   False\n",
      "2    False   False\n",
      "3    False   False\n",
      "4     True   False\n",
      "5     True    True\n",
      "6    False    True\n",
      "7    False   False\n",
      "8     True   False\n",
      "9    False    True\n",
      "10   False   False\n",
      "0     False\n",
      "1     False\n",
      "2     False\n",
      "3     False\n",
      "4      True\n",
      "5      True\n",
      "6     False\n",
      "7     False\n",
      "8      True\n",
      "9     False\n",
      "10    False\n",
      "Name: value1, dtype: bool\n",
      "0       12\n",
      "1        3\n",
      "2       45\n",
      "3       23\n",
      "4    False\n",
      "5    False\n",
      "6       66\n",
      "7       54\n",
      "8    False\n",
      "9       99\n",
      "dtype: object\n"
     ]
    }
   ],
   "source": [
    "# 判断是否有缺失值数据   isnull,notnull\n",
    "# isnull   缺失值为True,非缺失值为False\n",
    "# notnull  恰好相反\n",
    "\n",
    "s = pd.Series([12,3,45,23,np.nan,np.nan,66,54,np.nan,99])\n",
    "df = pd.DataFrame({'value1':[12,3,45,23,np.nan,np.nan,66,54,np.nan,99,100],\n",
    "                   'value2':['a','b','c','d','e',np.nan,np.nan,'f','g',np.nan,'g']   \n",
    "                  })\n",
    "\n",
    "\n",
    "\n",
    "print(s.isnull())\n",
    "print(df.isnull())\n",
    "print(df['value1'].isnull())\n",
    "s[s.isnull()] = False\n",
    "print(s)"
   ]
  },
  {
   "cell_type": "code",
   "execution_count": 17,
   "metadata": {
    "scrolled": true
   },
   "outputs": [
    {
     "name": "stdout",
     "output_type": "stream",
     "text": [
      "0    12.0\n",
      "1     3.0\n",
      "2    45.0\n",
      "3    23.0\n",
      "6    66.0\n",
      "7    54.0\n",
      "9    99.0\n",
      "dtype: float64\n",
      "0    12.0\n",
      "1     3.0\n",
      "2    45.0\n",
      "3    23.0\n",
      "4     NaN\n",
      "5     NaN\n",
      "6    66.0\n",
      "7    54.0\n",
      "8     NaN\n",
      "9    99.0\n",
      "dtype: float64\n",
      "None\n",
      "0    12.0\n",
      "1     3.0\n",
      "2    45.0\n",
      "3    23.0\n",
      "6    66.0\n",
      "7    54.0\n",
      "9    99.0\n",
      "dtype: float64\n"
     ]
    },
    {
     "data": {
      "text/html": [
       "<div>\n",
       "<style scoped>\n",
       "    .dataframe tbody tr th:only-of-type {\n",
       "        vertical-align: middle;\n",
       "    }\n",
       "\n",
       "    .dataframe tbody tr th {\n",
       "        vertical-align: top;\n",
       "    }\n",
       "\n",
       "    .dataframe thead th {\n",
       "        text-align: right;\n",
       "    }\n",
       "</style>\n",
       "<table border=\"1\" class=\"dataframe\">\n",
       "  <thead>\n",
       "    <tr style=\"text-align: right;\">\n",
       "      <th></th>\n",
       "      <th>value1</th>\n",
       "      <th>value2</th>\n",
       "    </tr>\n",
       "  </thead>\n",
       "  <tbody>\n",
       "    <tr>\n",
       "      <th>0</th>\n",
       "      <td>12.0</td>\n",
       "      <td>a</td>\n",
       "    </tr>\n",
       "    <tr>\n",
       "      <th>1</th>\n",
       "      <td>3.0</td>\n",
       "      <td>b</td>\n",
       "    </tr>\n",
       "    <tr>\n",
       "      <th>2</th>\n",
       "      <td>45.0</td>\n",
       "      <td>c</td>\n",
       "    </tr>\n",
       "    <tr>\n",
       "      <th>3</th>\n",
       "      <td>23.0</td>\n",
       "      <td>d</td>\n",
       "    </tr>\n",
       "    <tr>\n",
       "      <th>7</th>\n",
       "      <td>54.0</td>\n",
       "      <td>f</td>\n",
       "    </tr>\n",
       "    <tr>\n",
       "      <th>10</th>\n",
       "      <td>100.0</td>\n",
       "      <td>g</td>\n",
       "    </tr>\n",
       "  </tbody>\n",
       "</table>\n",
       "</div>"
      ],
      "text/plain": [
       "    value1 value2\n",
       "0     12.0      a\n",
       "1      3.0      b\n",
       "2     45.0      c\n",
       "3     23.0      d\n",
       "7     54.0      f\n",
       "10   100.0      g"
      ]
     },
     "execution_count": 17,
     "metadata": {},
     "output_type": "execute_result"
    }
   ],
   "source": [
    "# 删除缺失值 -  dropna\n",
    "s = pd.Series([12,3,45,23,np.nan,np.nan,66,54,np.nan,99])\n",
    "df = pd.DataFrame({'value1':[12,3,45,23,np.nan,np.nan,66,54,np.nan,99,100],\n",
    "                   'value2':['a','b','c','d','e',np.nan,np.nan,'f','g',np.nan,'g']   \n",
    "                  })\n",
    "\n",
    "a =s.dropna()\n",
    "print(a)\n",
    "print(s)\n",
    "\n",
    "b= s.dropna(inplace=True)  # inplace   是否在原数据基础上进行修改\n",
    "print(b)\n",
    "print(s)\n",
    "df.dropna()"
   ]
  },
  {
   "cell_type": "code",
   "execution_count": 27,
   "metadata": {},
   "outputs": [
    {
     "data": {
      "text/plain": [
       "0    12.0\n",
       "1     3.0\n",
       "2    45.0\n",
       "3    23.0\n",
       "4    66.0\n",
       "5    66.0\n",
       "6    66.0\n",
       "7    54.0\n",
       "8    99.0\n",
       "9    99.0\n",
       "dtype: float64"
      ]
     },
     "execution_count": 27,
     "metadata": {},
     "output_type": "execute_result"
    }
   ],
   "source": [
    "# 填充-  fillna\n",
    "s = pd.Series([12,3,45,23,np.nan,np.nan,66,54,np.nan,99])\n",
    "df = pd.DataFrame({'value1':[12,3,45,23,np.nan,np.nan,66,54,np.nan,99,100],\n",
    "                   'value2':['a','b','c','d','e',np.nan,np.nan,'f','g',np.nan,'g']   \n",
    "                  })\n",
    "\n",
    "s.fillna\n",
    "# s.fillna(['value=None', 'method=None', 'axis=None', 'inplace=False', 'limit=None', 'downcast=None', '**kwargs'],)\n",
    "s.fillna(method='bfill',inplace=True)\n",
    "# method参数\n",
    "# pad/ffill    用之前的数据填充\n",
    "# backfill/bfill 用之后的数据填充"
   ]
  },
  {
   "cell_type": "code",
   "execution_count": 41,
   "metadata": {},
   "outputs": [
    {
     "data": {
      "text/plain": [
       "0    100000.0\n",
       "1    100000.0\n",
       "2        45.0\n",
       "3        23.0\n",
       "4    100000.0\n",
       "5    100000.0\n",
       "6        66.0\n",
       "7        54.0\n",
       "8    100000.0\n",
       "9        99.0\n",
       "dtype: float64"
      ]
     },
     "execution_count": 41,
     "metadata": {},
     "output_type": "execute_result"
    }
   ],
   "source": [
    "# 替换缺失数据  - replace\n",
    "s = pd.Series([12,3,45,23,np.nan,np.nan,66,54,np.nan,99])\n",
    "df = pd.DataFrame({'value1':[12,3,45,23,np.nan,np.nan,66,54,np.nan,99,100],\n",
    "                   'value2':['a','b','c','d','e',np.nan,np.nan,'f','g',np.nan,'g']   \n",
    "                  })\n",
    "\n",
    "s.replace([np.nan,12,3],100000,inplace=True)\n",
    "s"
   ]
  },
  {
   "cell_type": "code",
   "execution_count": 56,
   "metadata": {},
   "outputs": [
    {
     "name": "stdout",
     "output_type": "stream",
     "text": [
      "缺失值数据量 3\n",
      "确实数据比30.00%\n"
     ]
    },
    {
     "data": {
      "text/plain": [
       "<matplotlib.axes._subplots.AxesSubplot at 0x2014a569f98>"
      ]
     },
     "execution_count": 56,
     "metadata": {},
     "output_type": "execute_result"
    },
    {
     "data": {
      "image/png": "[encoded data removed]",
      "text/plain": [
       "<Figure size 1440x360 with 4 Axes>"
      ]
     },
     "metadata": {
      "needs_background": "light"
     },
     "output_type": "display_data"
    }
   ],
   "source": [
    "# 缺失值插补\n",
    "# 均值、中位数、众数、临近值插补、差值法\n",
    "data = pd.Series([12,3,45,23,np.nan,np.nan,66,54,np.nan,99])\n",
    "data.mean()# 均值\n",
    "data.median()# 中位数\n",
    "data.mode()# 众数\n",
    "\n",
    "data_na = data[data.isnull()]\n",
    "print('缺失值数据量', len(data_na))\n",
    "print(\"确实数据比%.2f%%\"%(len(data_na)/len(data)*100))\n",
    "\n",
    "\n",
    "data_c = data.fillna(data.median())# 填充中位数\n",
    "fig,axes = plt.subplots(1,4,figsize=(20,5))\n",
    "data.plot.box(ax=axes[0],grid=True,title='数据分布')\n",
    "data.plot(kind='kde',style='--r',ax=axes[1],grid=True,title='删除缺失值',xlim=[-50,150])\n",
    "data_c.plot(kind='kde',style='--b',ax=axes[2],grid=True,title='缺失值填充中位数',xlim=[-50,150])\n",
    "# 密度图查看确实情况\n",
    "\n",
    "\n",
    "from scipy.interpolate import lagrange\n",
    "def f(s,n,k=5):\n",
    "    y = s[list(range(n-k,n+i+k))]\n",
    "    y = y[y.notnull()]\n",
    "    return  (lagrange(y.index,list(y))(n))\n",
    "    \n",
    "    \n",
    "for i in range(len(data)):\n",
    "    if data.isnull()[i]:\n",
    "        data[i] = f(data,i)\n",
    "data.dropna(inplace=True)\n",
    "    \n",
    "data.plot(kind='kde',style='--g',ax=axes[3],grid=True,title='拉格朗日插值',xlim=[-50,150])"
   ]
  },
  {
   "cell_type": "code",
   "execution_count": 47,
   "metadata": {},
   "outputs": [
    {
     "name": "stdout",
     "output_type": "stream",
     "text": [
      "         2\n",
      "-0.1111 x + 0.3333 x + 10\n"
     ]
    },
    {
     "data": {
      "text/plain": [
       "[<matplotlib.lines.Line2D at 0x20145ba1470>]"
      ]
     },
     "execution_count": 47,
     "metadata": {},
     "output_type": "execute_result"
    },
    {
     "data": {
      "image/png": "[encoded data removed]",
      "text/plain": [
       "<Figure size 432x288 with 1 Axes>"
      ]
     },
     "metadata": {
      "needs_background": "light"
     },
     "output_type": "display_data"
    }
   ],
   "source": [
    "# 拉格朗日插值法\n",
    "from scipy.interpolate import lagrange\n",
    "x = [3,6,9]\n",
    "y = [10,8,4]\n",
    "plt.scatter(x,y)\n",
    "print(lagrange(x,y))\n",
    "# y = -0.1111 x*x + 0.3333 x + 10\n",
    "plt.plot(x,y)\n"
   ]
  },
  {
   "cell_type": "code",
   "execution_count": 59,
   "metadata": {},
   "outputs": [
    {
     "data": {
      "text/plain": [
       "0    12.0\n",
       "1     3.0\n",
       "2    45.0\n",
       "3    23.0\n",
       "4     0.0\n",
       "5     0.0\n",
       "6    66.0\n",
       "7    54.0\n",
       "8     0.0\n",
       "9    99.0\n",
       "dtype: float64"
      ]
     },
     "execution_count": 59,
     "metadata": {},
     "output_type": "execute_result"
    }
   ],
   "source": [
    "data = pd.Series([12,3,45,23,np.nan,np.nan,66,54,np.nan,99])\n",
    "data =  data.replace(data[data.isnull()],0)\n",
    "data"
   ]
  },
  {
   "cell_type": "code",
   "execution_count": null,
   "metadata": {},
   "outputs": [],
   "source": []
  }
 ],
 "metadata": {
  "kernelspec": {
   "display_name": "Python 3",
   "language": "python",
   "name": "python3"
  },
  "language_info": {
   "codemirror_mode": {
    "name": "ipython",
    "version": 3
   },
   "file_extension": ".py",
   "mimetype": "text/x-python",
   "name": "python",
   "nbconvert_exporter": "python",
   "pygments_lexer": "ipython3",
   "version": "3.6.3"
  }
 },
 "nbformat": 4,
 "nbformat_minor": 2
}
