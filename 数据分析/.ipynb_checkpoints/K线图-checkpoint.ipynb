{
 "cells": [
  {
   "cell_type": "code",
   "execution_count": 1,
   "metadata": {},
   "outputs": [
    {
     "name": "stdout",
     "output_type": "stream",
     "text": [
      "-20588.8\n",
      "-85289.1\n",
      "-134017.0\n",
      "-235861.0\n",
      "-381492.2\n",
      "-824325.5\n",
      "-2271054.0\n",
      "-2839113.6\n",
      "-4057023.8000000003\n",
      "-4994360.000000001\n",
      "-6358293.100000001\n",
      "-8040687.7\n",
      "-9076213.1\n",
      "-10554572.799999999\n",
      "-12622328.1\n",
      "-16103955.9\n",
      "-16042325.0\n",
      "25996225.0\n"
     ]
    }
   ],
   "source": [
    "import tushare as ts\n",
    "import pandas as pd\n",
    "import numpy as np\n",
    "import matplotlib.pyplot as plt\n",
    "\n",
    "df = ts.get_k_data('600519', start='1988-01-01')\n",
    "df.to_csv('600519.csv')\n",
    "df = pd.read_csv('600519.csv', index_col='date', parse_dates=['date'])[['open', 'close', 'high', 'low']]\n",
    "df = df[(df['close'] - df['open']) / df['open'] >= 0.03]\n",
    "# df.shift(-1)# 往上移动一位，nan补\n",
    "\n",
    "df = df[(df['open'] - df['close'].shift(1)) / df['close'].shift(1) <= -0.02]  # 布尔型索引\n",
    "price_last = df['open'][-1]\n",
    "df = df['2001-09':'2017-11']  # 索引为日期类型才允许这么干\n",
    "df_monthly = df.resample('M').first()\n",
    "df_yearly = df.resample('A').last()[:-1]\n",
    "\n",
    "cost_money = 0\n",
    "hold = 0\n",
    "for year in range(2001, 2018):\n",
    "    cost_money += df_monthly[str(year)]['open'].sum() * 100\n",
    "    hold += len(df_monthly[str(year)]['open']) * 1000\n",
    "    if year != 2017:\n",
    "        cost_money -= df_yearly[str(year)]['open'][0] * hold\n",
    "        hold = 0\n",
    "    print(cost_money)\n",
    "cost_money -= hold * price_last\n",
    "print(-cost_money)"
   ]
  },
  {
   "cell_type": "code",
   "execution_count": null,
   "metadata": {},
   "outputs": [],
   "source": []
  }
 ],
 "metadata": {
  "kernelspec": {
   "display_name": "Python 3",
   "language": "python",
   "name": "python3"
  },
  "language_info": {
   "codemirror_mode": {
    "name": "ipython",
    "version": 3
   },
   "file_extension": ".py",
   "mimetype": "text/x-python",
   "name": "python",
   "nbconvert_exporter": "python",
   "pygments_lexer": "ipython3",
   "version": "3.6.3"
  }
 },
 "nbformat": 4,
 "nbformat_minor": 1
}
