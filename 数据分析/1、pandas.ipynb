{
 "cells": [
  {
   "cell_type": "markdown",
   "metadata": {},
   "source": [
    "# Series 一维数组,更像是字典与列表的集合体"
   ]
  },
  {
   "cell_type": "code",
   "execution_count": 11,
   "metadata": {},
   "outputs": [
    {
     "name": "stdout",
     "output_type": "stream",
     "text": [
      "a    2\n",
      "b    3\n",
      "c    4\n",
      "d    5\n",
      "dtype: int64\n",
      "2\n",
      "2\n"
     ]
    }
   ],
   "source": [
    "import pandas as pd\n",
    "sr = pd.Series([2,3,4,5],index=['a','b','c','d'])\n",
    "print(sr)\n",
    "print(sr[0])  # 下表索引\n",
    "print(sr['a'])# key索引"
   ]
  },
  {
   "cell_type": "code",
   "execution_count": 12,
   "metadata": {},
   "outputs": [
    {
     "data": {
      "text/plain": [
       "Index(['a', 'b', 'c', 'd'], dtype='object')"
      ]
     },
     "execution_count": 12,
     "metadata": {},
     "output_type": "execute_result"
    }
   ],
   "source": [
    "import pandas as pd\n",
    "sr = pd.Series([2,3,4,5],index=['a','b','c','d'])\n",
    "sr.index"
   ]
  },
  {
   "cell_type": "code",
   "execution_count": 14,
   "metadata": {},
   "outputs": [
    {
     "name": "stdout",
     "output_type": "stream",
     "text": [
      "2\n",
      "3\n",
      "4\n",
      "5\n"
     ]
    },
    {
     "data": {
      "text/plain": [
       "a    2\n",
       "b    3\n",
       "c    4\n",
       "dtype: int64"
      ]
     },
     "execution_count": 14,
     "metadata": {},
     "output_type": "execute_result"
    }
   ],
   "source": [
    "import pandas as pd\n",
    "sr = pd.Series([2,3,4,5],index=['a','b','c','d'])\n",
    "for i in sr:\n",
    "    print(i)# 这里和原生的字典不一样\n",
    "sr['a':'c']"
   ]
  },
  {
   "cell_type": "markdown",
   "metadata": {},
   "source": [
    "# 标签为整数的时候，一定要用iloc、loc进行区分"
   ]
  },
  {
   "cell_type": "code",
   "execution_count": 29,
   "metadata": {},
   "outputs": [
    {
     "name": "stdout",
     "output_type": "stream",
     "text": [
      "0    2\n",
      "1    3\n",
      "2    4\n",
      "3    5\n",
      "4    6\n",
      "5    7\n",
      "6    8\n",
      "7    9\n",
      "dtype: int64\n",
      "4    6\n",
      "5    7\n",
      "6    8\n",
      "7    9\n",
      "dtype: int64\n",
      "6\n",
      "6\n",
      "6\n"
     ]
    }
   ],
   "source": [
    "sr = pd.Series([2,3,4,5,6,7,8,9])\n",
    "print(sr)\n",
    "sr2 = sr[4:].copy()\n",
    "print(sr2)\n",
    "# print(sr2[0])   因为有两种索引方式，很容易崩掉\n",
    "print(sr2[4])    #  整数的时候默认标签索引\n",
    "#########\n",
    "print(sr2.iloc[0])# 解释为下表\n",
    "print(sr2.loc[4])# 解释为标签"
   ]
  },
  {
   "cell_type": "markdown",
   "metadata": {},
   "source": [
    "# Series 数据对齐(按照标签进行对齐）\n"
   ]
  },
  {
   "cell_type": "markdown",
   "metadata": {},
   "source": [
    "Nan  再numpy  用来表示  不是一个数\n",
    "nan  再pandas 用来表示  数据缺失"
   ]
  },
  {
   "cell_type": "code",
   "execution_count": 31,
   "metadata": {},
   "outputs": [
    {
     "name": "stdout",
     "output_type": "stream",
     "text": [
      "a    22\n",
      "b    57\n",
      "c    57\n",
      "dtype: int64\n",
      "a    22.0\n",
      "b    57.0\n",
      "c    57.0\n",
      "d     NaN\n",
      "dtype: float64\n"
     ]
    }
   ],
   "source": [
    "import pandas as pd\n",
    "sr1 = pd.Series([11,23,34],index=['a','b','c'])\n",
    "sr2 = pd.Series([11,23,34],index=['a','c','b'])\n",
    "sr3 = pd.Series([11,23,34,221],index=['a','c','b','d'])\n",
    "print(sr1 + sr2)\n",
    "print(sr1+sr3)"
   ]
  },
  {
   "cell_type": "markdown",
   "metadata": {},
   "source": [
    "灵活的算数方法\n",
    "add sub div mul"
   ]
  },
  {
   "cell_type": "code",
   "execution_count": 34,
   "metadata": {},
   "outputs": [
    {
     "data": {
      "text/plain": [
       "a     22.0\n",
       "b     68.0\n",
       "c     46.0\n",
       "d    221.0\n",
       "dtype: float64"
      ]
     },
     "execution_count": 34,
     "metadata": {},
     "output_type": "execute_result"
    }
   ],
   "source": [
    "import pandas as pd\n",
    "sr2 = pd.Series([11,23,34],index=['a','c','b'])\n",
    "sr3 = pd.Series([11,23,34,221],index=['a','c','b','d'])\n",
    "#sr2.add(sr3)# 与 + 一样\n",
    "sr2.add(sr3,fill_value=0)  # 数据缺失的值默认填充为0"
   ]
  },
  {
   "cell_type": "code",
   "execution_count": null,
   "metadata": {},
   "outputs": [],
   "source": [
    "\n",
    "\n",
    "\n",
    "\n",
    "\n",
    "\n",
    "\n",
    "\n",
    "\n",
    "\n",
    "\n",
    "\n",
    "\n",
    "\n",
    "\n",
    "\n",
    "\n",
    "\n",
    "\n",
    "\n",
    "\n",
    "\n",
    "\n",
    "\n",
    "\n",
    "\n",
    "\n",
    "\n",
    "\n",
    "\n",
    "\n",
    "\n",
    "\n",
    "\n",
    "\n",
    "\n",
    "\n",
    "\n",
    "\n",
    "\n",
    "\n",
    "\n",
    "\n"
   ]
  }
 ],
 "metadata": {
  "kernelspec": {
   "display_name": "Python 3",
   "language": "python",
   "name": "python3"
  },
  "language_info": {
   "codemirror_mode": {
    "name": "ipython",
    "version": 3
   },
   "file_extension": ".py",
   "mimetype": "text/x-python",
   "name": "python",
   "nbconvert_exporter": "python",
   "pygments_lexer": "ipython3",
   "version": "3.5.3"
  }
 },
 "nbformat": 4,
 "nbformat_minor": 1
}
